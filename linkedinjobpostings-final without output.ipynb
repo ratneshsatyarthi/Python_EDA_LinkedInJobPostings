{
 "cells": [
  {
   "cell_type": "markdown",
   "metadata": {
    "_cell_guid": "8ba7b65c-042a-42fb-aa9b-fd6897bc0407",
    "_uuid": "de403641-3eef-410d-ba32-451ea04c854c",
    "collapsed": false,
    "jupyter": {
     "outputs_hidden": false
    },
    "trusted": true
   },
   "source": [
    "# **LinkedIn Job Postings Analysis**\n",
    "\n",
    "This notebook explores a rich LinkedIn job postings dataset spanning 2023 and 2024 with over 280,000 job records and 35 columns.. The analysis covers various angles including job market dynamics, compensation, work types, application metrics, skills demand, and employer profiles."
   ]
  },
  {
   "cell_type": "markdown",
   "metadata": {
    "_cell_guid": "35524496-f048-4474-ada1-610715ff3ec1",
    "_uuid": "597e2d1e-c445-4388-999b-310debb29b88",
    "collapsed": false,
    "jupyter": {
     "outputs_hidden": false
    },
    "trusted": true
   },
   "source": [
    "#### **Key Areas of Analysis**\n",
    "\n",
    "- Job Market Dynamics:\n",
    "\n",
    "    - Analysis of job posting volume by location, industry, and company size to identify trends and hotspots for talent demand.\n",
    "\n",
    "- Work Type and Flexibility:\n",
    "    \n",
    "    - Exploration of remote work availability and work types offered to understand the shifting landscape of job flexibility.\n",
    "\n",
    "- Skill Demand:\n",
    "    \n",
    "    - Assessment of skills mentioned in job postings to highlight emerging and in-demand competencies.\n",
    " \n",
    "- Geographic and Market Insights:\n",
    "\n",
    "    - Visualization and analysis of geographic distribution and concentration of job postings, average job views per region, and location parsing/filling.\n",
    "\n",
    "This integrated dataset and the analysis provide valuable insights to job seekers, employers, and policymakers about the labor market conditions, competitive employer landscapes, and evolving workforce demands in 2023-2024."
   ]
  },
  {
   "cell_type": "markdown",
   "metadata": {},
   "source": [
    "## Questions Answered in the Notebook\n",
    "\n",
    "**1. Data Overview and Quality Assessment**\n",
    "\n",
    "- What are the overall size and structure of the dataset (rows, columns, data types)?\n",
    "\n",
    "- Which columns have missing or null data, and what is the extent of missingness?\n",
    "\n",
    "- Are there duplicate columns or major data quality issues to address?\n",
    "\n",
    "- How to effectively convert date columns and handle time-related features?\n",
    "\n",
    "**2. Data Cleaning and Imputation**\n",
    "\n",
    "- How to handle missing location data by parsing \"location\" into city, state, and country?\n",
    "\n",
    "- How many jobs have null or incomplete geographic data, and can this be filled or dropped?\n",
    "\n",
    "- Which columns to drop due to high missing value percentages?\n",
    "\n",
    "- How to impute missing values in numeric columns (median) and categorical columns (mode, forward/backward fill)?\n",
    "\n",
    "- How to detect and cap numeric outliers to reduce skewness and extreme values?\n",
    "\n",
    "**3. Univariate Exploratory Data Analysis (EDA)**\n",
    "\n",
    "- What are the distributions of key categorical variables such as:\n",
    "\n",
    "    - Work Type\n",
    "    - Experience Level\n",
    "    - Application Type\n",
    "    - Skills\n",
    "    - Industry\n",
    "    - Companies\n",
    "\n",
    "- What are the distributions and outlier patterns in numeric variables like views, job IDs, company IDs?\n",
    "\n",
    "- What are the most common job titles and skills demanded in the dataset?\n",
    "\n",
    "- What industries dominate job postings, and what are their frequencies?\n",
    "\n",
    "**4. Bivariate Analysis and Visualizations**\n",
    "\n",
    "- How does job posting frequency vary by work type across experience levels and vice versa?\n",
    "\n",
    "- What is the distribution of work types and experience levels across top cities and states (stacked bar charts)?\n",
    "\n",
    "- How do skill demands vary in the top cities and states?\n",
    "\n",
    "- What industries dominate in the top cities and states (pie charts showing percentage shares)?\n",
    "\n",
    "- How do job types distribute across countries (interactive grouped bar chart)?\n",
    "\n",
    "**5. Geographic and Market Insights**\n",
    "\n",
    "- What are the top locations (cities, states, countries) by job posting count?\n",
    "\n",
    "- How are job postings geographically distributed (bar charts and pie charts)?\n",
    "\n",
    "- What is the average number of job post views by state, indicating job attractiveness?\n",
    "\n",
    "**6. Word Cloud Visualizations**\n",
    "\n",
    "- What are the common job titles, skill keywords, and industries in the posting data visualized through word clouds?"
   ]
  },
  {
   "cell_type": "markdown",
   "metadata": {
    "_cell_guid": "8dfb7829-6ac5-423f-915f-15aa77232991",
    "_uuid": "8f2d2328-a74f-4767-9640-416fe809ef69",
    "collapsed": false,
    "jupyter": {
     "outputs_hidden": false
    },
    "trusted": true
   },
   "source": [
    "### **1. Import Libraries and Load Data**"
   ]
  },
  {
   "cell_type": "code",
   "execution_count": null,
   "metadata": {
    "_cell_guid": "40904c3b-f7d6-409c-9c32-f4592f51010a",
    "_uuid": "d5c5d50f-1ce1-49f7-9bc2-902c7006ca40",
    "execution": {
     "iopub.execute_input": "2025-09-17T07:25:45.282126Z",
     "iopub.status.busy": "2025-09-17T07:25:45.281772Z",
     "iopub.status.idle": "2025-09-17T07:25:45.287535Z",
     "shell.execute_reply": "2025-09-17T07:25:45.286355Z",
     "shell.execute_reply.started": "2025-09-17T07:25:45.282102Z"
    },
    "trusted": true
   },
   "outputs": [],
   "source": [
    "# Import the libraries\n",
    "\n",
    "import pandas as pd\n",
    "import numpy as np  \n",
    "import os\n",
    "\n",
    "import warnings\n",
    "warnings.filterwarnings('ignore')"
   ]
  },
  {
   "cell_type": "markdown",
   "metadata": {
    "_cell_guid": "63a19dfb-b3da-4ea8-b9ad-9d8d1c4a2ec2",
    "_uuid": "4b360b8e-6f4f-471a-987f-0aadf7459984",
    "collapsed": false,
    "jupyter": {
     "outputs_hidden": false
    },
    "trusted": true
   },
   "source": [
    "***Reading the dataset***"
   ]
  },
  {
   "cell_type": "code",
   "execution_count": null,
   "metadata": {
    "_cell_guid": "f84ef24c-f942-4b0f-be41-73797da309c4",
    "_uuid": "77f90b13-780c-44c9-954c-7f643493a357",
    "execution": {
     "iopub.execute_input": "2025-09-17T07:25:45.289120Z",
     "iopub.status.busy": "2025-09-17T07:25:45.288880Z",
     "iopub.status.idle": "2025-09-17T07:26:01.427440Z",
     "shell.execute_reply": "2025-09-17T07:26:01.426447Z",
     "shell.execute_reply.started": "2025-09-17T07:25:45.289102Z"
    },
    "trusted": true
   },
   "outputs": [],
   "source": [
    "# Load the data into dataset\n",
    "\n",
    "df = pd.read_csv('merged_output.csv')"
   ]
  },
  {
   "cell_type": "code",
   "execution_count": null,
   "metadata": {
    "_cell_guid": "16b796ca-55af-448e-b4e1-b8ded97c80ee",
    "_uuid": "30059d1d-ab02-405a-b7fb-f18247993bcb",
    "execution": {
     "iopub.execute_input": "2025-09-17T07:26:01.429130Z",
     "iopub.status.busy": "2025-09-17T07:26:01.428779Z",
     "iopub.status.idle": "2025-09-17T07:26:01.456030Z",
     "shell.execute_reply": "2025-09-17T07:26:01.454427Z",
     "shell.execute_reply.started": "2025-09-17T07:26:01.429099Z"
    },
    "trusted": true
   },
   "outputs": [],
   "source": [
    "# Read the first few rows of the dataframe\n",
    "df.head()"
   ]
  },
  {
   "cell_type": "markdown",
   "metadata": {
    "_cell_guid": "083e0530-bc00-49e4-b0b4-c5358118858d",
    "_uuid": "ffdcb61e-75e7-4f03-b7b4-4fe2f80f1307",
    "collapsed": false,
    "jupyter": {
     "outputs_hidden": false
    },
    "trusted": true
   },
   "source": [
    "### **2. Initial Data Inspection**"
   ]
  },
  {
   "cell_type": "code",
   "execution_count": null,
   "metadata": {
    "_cell_guid": "6037b8a6-6584-4591-a31e-ce043bba3a8b",
    "_uuid": "74b4020f-9cef-4cfb-bb50-18a690ff5483",
    "execution": {
     "iopub.execute_input": "2025-09-17T07:26:01.458221Z",
     "iopub.status.busy": "2025-09-17T07:26:01.457730Z",
     "iopub.status.idle": "2025-09-17T07:26:01.487326Z",
     "shell.execute_reply": "2025-09-17T07:26:01.485866Z",
     "shell.execute_reply.started": "2025-09-17T07:26:01.458192Z"
    },
    "trusted": true
   },
   "outputs": [],
   "source": [
    "# View the total number of rows and columns in the dataset\n",
    "df.shape"
   ]
  },
  {
   "cell_type": "markdown",
   "metadata": {
    "_cell_guid": "3c1a8d0b-5137-4f29-9baf-85f86eef4030",
    "_uuid": "0d55a62a-c671-4161-b3cb-07b01a045fbd",
    "collapsed": false,
    "jupyter": {
     "outputs_hidden": false
    },
    "trusted": true
   },
   "source": [
    "**Large Dataset Size**\n",
    "\n",
    "- The dataset's size (280,665 records) suggests a **very large volume** of job postings, which is ideal for robust analysis and building machine learning models with diverse patterns.\n",
    "\n",
    "**Wide Feature Set**\n",
    "\n",
    "- With 35 columns, there appears to be a **wide range of features available**—potentially covering job descriptions, company information, skills, location, application types, and time-related details."
   ]
  },
  {
   "cell_type": "code",
   "execution_count": null,
   "metadata": {
    "_cell_guid": "42446d18-9b71-490f-a175-d191904cf8b4",
    "_uuid": "c942f8df-2873-4b0b-978e-bae061c5a8f5",
    "execution": {
     "iopub.execute_input": "2025-09-17T07:26:01.490620Z",
     "iopub.status.busy": "2025-09-17T07:26:01.490259Z",
     "iopub.status.idle": "2025-09-17T07:26:01.520012Z",
     "shell.execute_reply": "2025-09-17T07:26:01.518661Z",
     "shell.execute_reply.started": "2025-09-17T07:26:01.490596Z"
    },
    "trusted": true
   },
   "outputs": [],
   "source": [
    "# View all the column names in the dataset\n",
    "df.columns"
   ]
  },
  {
   "cell_type": "code",
   "execution_count": null,
   "metadata": {
    "_cell_guid": "4159d202-2259-45bf-be67-dac89c3ef733",
    "_uuid": "1f27d084-3cef-4cae-8f5c-0bd728d97e54",
    "execution": {
     "iopub.execute_input": "2025-09-17T07:26:01.521408Z",
     "iopub.status.busy": "2025-09-17T07:26:01.521104Z",
     "iopub.status.idle": "2025-09-17T07:26:01.874320Z",
     "shell.execute_reply": "2025-09-17T07:26:01.873229Z",
     "shell.execute_reply.started": "2025-09-17T07:26:01.521383Z"
    },
    "trusted": true
   },
   "outputs": [],
   "source": [
    "# View the information about the dataset\n",
    "df.info()"
   ]
  },
  {
   "cell_type": "markdown",
   "metadata": {
    "_cell_guid": "0e60ae48-aa10-4bf7-b80d-3e5c3c612f9f",
    "_uuid": "e773bba2-e360-4d2b-9cb6-63c65c2e1537",
    "collapsed": false,
    "jupyter": {
     "outputs_hidden": false
    },
    "trusted": true
   },
   "source": [
    "**Key Insights from Dataset Structure:**\n",
    "\n",
    "- **Large Dataset:** Over 280k rows, suitable for extensive analysis.\n",
    "\n",
    "- **Missing Data:** Significant missing values in salary columns (max_salary, min_salary, med_salary), pay_period, applies, and remote_allowed columns, which may affect salary and application analyses.\n",
    "\n",
    "- **Data Types:** Mix of numeric and categorical columns, with salary-related columns as floats and job/company attributes as objects.\n",
    "\n",
    "- **Application Metrics:** 'applies' and 'views' columns give insights into job popularity but are sparsely populated.\n",
    "\n",
    "- **Remote Jobs:** remote_allowed has many missing values; remote work info might be incomplete.\n",
    "\n",
    "- **Industry Info:** 'industry_id' and 'industry_name' are mostly complete and can help segment analysis by sectors.\n",
    "\n",
    "- **Time Fields:** original_listed_time, expiry, closed_time can help analyze job listing duration and expiry."
   ]
  },
  {
   "cell_type": "code",
   "execution_count": null,
   "metadata": {
    "_cell_guid": "4182a2d5-eeda-4d68-b57c-2f713a01062f",
    "_uuid": "29786215-2eb3-4573-99c9-4083fa93ef68",
    "execution": {
     "iopub.execute_input": "2025-09-17T07:26:01.875790Z",
     "iopub.status.busy": "2025-09-17T07:26:01.875451Z",
     "iopub.status.idle": "2025-09-17T07:26:02.737451Z",
     "shell.execute_reply": "2025-09-17T07:26:02.735632Z",
     "shell.execute_reply.started": "2025-09-17T07:26:01.875759Z"
    },
    "trusted": true
   },
   "outputs": [],
   "source": [
    "# Print Unique values in each column\n",
    "for col in df.columns:\n",
    "    #print(f\"Unique values in '{col}': {df[col].nunique()}\")\n",
    "    print(f\"Unique values in {col:<27} : {df[col].nunique()}\")\n",
    "    #print(df[col].value_counts())  \n",
    "    #print(\"\\n\")"
   ]
  },
  {
   "cell_type": "markdown",
   "metadata": {},
   "source": [
    "**Key Insights:**\n",
    "\n",
    "- The dataset has a large scale with over **123,000 unique job postings** and about **24,000 unique companies**.\n",
    "\n",
    "- There is **high variety in job titles (72k+) and descriptions (107k+)**, reflecting diverse job opportunities.\n",
    "\n",
    "- Salary information varies with thousands of unique values for max, median, and minimum salaries.\n",
    "\n",
    "- **Geographic diversity** is notable with thousands of unique locations, zip codes, and industry classifications.\n",
    "\n",
    "- Some features, like remote_allowed, sponsored, and compensation_type, have very **limited unique values**, indicating fixed or binary categories."
   ]
  },
  {
   "cell_type": "markdown",
   "metadata": {
    "_cell_guid": "cdad5208-6292-498c-b41e-bc0c5c056bb8",
    "_uuid": "0f4fdbaf-3419-411e-946f-b14d43dac96d",
    "collapsed": false,
    "jupyter": {
     "outputs_hidden": false
    },
    "trusted": true
   },
   "source": [
    "#### Data Type Conversion"
   ]
  },
  {
   "cell_type": "code",
   "execution_count": null,
   "metadata": {
    "_cell_guid": "db2ebff9-02b5-4366-8d4c-dc6399bddc4a",
    "_uuid": "74fa6985-2d4e-4cbd-82bc-6bb22915440a",
    "execution": {
     "iopub.execute_input": "2025-09-17T07:26:02.738874Z",
     "iopub.status.busy": "2025-09-17T07:26:02.738570Z",
     "iopub.status.idle": "2025-09-17T07:26:02.756194Z",
     "shell.execute_reply": "2025-09-17T07:26:02.754408Z",
     "shell.execute_reply.started": "2025-09-17T07:26:02.738854Z"
    },
    "trusted": true
   },
   "outputs": [],
   "source": [
    "# View the date column data before conversion\n",
    "df[['closed_time', 'original_listed_time', 'listed_time']].head()"
   ]
  },
  {
   "cell_type": "markdown",
   "metadata": {
    "_cell_guid": "dabc206b-d0f8-4896-b645-92488c0267c7",
    "_uuid": "00b75f78-542f-4d26-aefc-e0a2d235e3bd",
    "collapsed": false,
    "jupyter": {
     "outputs_hidden": false
    },
    "trusted": true
   },
   "source": [
    "***Timestamp Conversion***"
   ]
  },
  {
   "cell_type": "code",
   "execution_count": null,
   "metadata": {
    "_cell_guid": "ef7c16db-46c8-49d1-8aae-52cbe531ce1a",
    "_uuid": "25a679ed-bb8c-4335-8230-73b6a431ca5c",
    "execution": {
     "iopub.execute_input": "2025-09-17T07:26:02.758050Z",
     "iopub.status.busy": "2025-09-17T07:26:02.757473Z",
     "iopub.status.idle": "2025-09-17T07:26:02.938562Z",
     "shell.execute_reply": "2025-09-17T07:26:02.937219Z",
     "shell.execute_reply.started": "2025-09-17T07:26:02.758016Z"
    },
    "trusted": true
   },
   "outputs": [],
   "source": [
    "# Convert date columns from scientific format to datetime format\n",
    "\n",
    "df['original_listed_time'] = pd.to_datetime(df['original_listed_time'], unit='ms')\n",
    "df['listed_time'] = pd.to_datetime(df['listed_time'], unit='ms')\n",
    "df['closed_time'] = pd.to_datetime(df['closed_time'], unit='ms')"
   ]
  },
  {
   "cell_type": "code",
   "execution_count": null,
   "metadata": {
    "_cell_guid": "3b9968fa-81b0-42b7-9007-1771d8496687",
    "_uuid": "b9fd182f-bd6e-4cf2-8796-bca9bbb31476",
    "execution": {
     "iopub.execute_input": "2025-09-17T07:26:02.939963Z",
     "iopub.status.busy": "2025-09-17T07:26:02.939629Z",
     "iopub.status.idle": "2025-09-17T07:26:02.955346Z",
     "shell.execute_reply": "2025-09-17T07:26:02.953616Z",
     "shell.execute_reply.started": "2025-09-17T07:26:02.939929Z"
    },
    "trusted": true
   },
   "outputs": [],
   "source": [
    "# View the date column data after conversion\n",
    "df[['closed_time', 'original_listed_time', 'listed_time']].head(10)"
   ]
  },
  {
   "cell_type": "code",
   "execution_count": null,
   "metadata": {
    "_cell_guid": "f1f66f43-e5b5-4f44-b9b6-469499749e10",
    "_uuid": "34c88040-0f87-4d4a-b22f-4ad23fefc947",
    "execution": {
     "iopub.execute_input": "2025-09-17T07:26:02.960404Z",
     "iopub.status.busy": "2025-09-17T07:26:02.960005Z",
     "iopub.status.idle": "2025-09-17T07:26:03.137642Z",
     "shell.execute_reply": "2025-09-17T07:26:03.136626Z",
     "shell.execute_reply.started": "2025-09-17T07:26:02.960378Z"
    },
    "trusted": true
   },
   "outputs": [],
   "source": [
    "# Extract the date from datetime columns\n",
    "\n",
    "df['closed_time'] = df['closed_time'].dt.date\n",
    "df['original_listed_time'] = df['original_listed_time'].dt.date\n",
    "df['listed_time'] = df['listed_time'].dt.date"
   ]
  },
  {
   "cell_type": "code",
   "execution_count": null,
   "metadata": {
    "_cell_guid": "a4b4e7e8-c42a-463b-9d8e-dde2a34cd48a",
    "_uuid": "3a2d83fd-9f3d-451c-876f-31b8ad01b521",
    "execution": {
     "iopub.execute_input": "2025-09-17T07:26:03.138774Z",
     "iopub.status.busy": "2025-09-17T07:26:03.138452Z",
     "iopub.status.idle": "2025-09-17T07:26:03.249000Z",
     "shell.execute_reply": "2025-09-17T07:26:03.247688Z",
     "shell.execute_reply.started": "2025-09-17T07:26:03.138746Z"
    },
    "trusted": true
   },
   "outputs": [],
   "source": [
    "# Convert date column from object to datetime fromat\n",
    "\n",
    "df['original_listed_time'] = pd.to_datetime(df['original_listed_time'])\n",
    "df['listed_time'] = pd.to_datetime(df['listed_time'])\n",
    "df['closed_time'] = pd.to_datetime(df['closed_time'])"
   ]
  },
  {
   "cell_type": "code",
   "execution_count": null,
   "metadata": {
    "_cell_guid": "043dfab8-9db5-4b87-95fe-7a4caa3f3107",
    "_uuid": "c2756d69-139e-4692-ab4e-9193db468ec9",
    "execution": {
     "iopub.execute_input": "2025-09-17T07:26:03.250393Z",
     "iopub.status.busy": "2025-09-17T07:26:03.250098Z",
     "iopub.status.idle": "2025-09-17T07:26:03.263579Z",
     "shell.execute_reply": "2025-09-17T07:26:03.262271Z",
     "shell.execute_reply.started": "2025-09-17T07:26:03.250371Z"
    },
    "trusted": true
   },
   "outputs": [],
   "source": [
    "# Check the result after extraction\n",
    "df[['closed_time', 'original_listed_time', 'listed_time']].head()"
   ]
  },
  {
   "cell_type": "code",
   "execution_count": null,
   "metadata": {
    "_cell_guid": "b5f0ed28-aace-4455-854c-00a04222af12",
    "_uuid": "6593c02a-1cb7-4fcf-bdd2-a82e69d6433f",
    "execution": {
     "iopub.execute_input": "2025-09-17T07:26:03.265190Z",
     "iopub.status.busy": "2025-09-17T07:26:03.264810Z",
     "iopub.status.idle": "2025-09-17T07:26:03.288511Z",
     "shell.execute_reply": "2025-09-17T07:26:03.286692Z",
     "shell.execute_reply.started": "2025-09-17T07:26:03.265151Z"
    },
    "trusted": true
   },
   "outputs": [],
   "source": [
    "# Check the data type \n",
    "df[['closed_time', 'original_listed_time', 'listed_time']].dtypes"
   ]
  },
  {
   "cell_type": "code",
   "execution_count": null,
   "metadata": {
    "_cell_guid": "723914d9-e688-4be8-b6a9-009a1a82b45d",
    "_uuid": "697dfd0c-d272-4c31-b04b-7dae6a514101",
    "execution": {
     "iopub.execute_input": "2025-09-17T07:26:03.290570Z",
     "iopub.status.busy": "2025-09-17T07:26:03.290169Z",
     "iopub.status.idle": "2025-09-17T07:26:03.307140Z",
     "shell.execute_reply": "2025-09-17T07:26:03.306053Z",
     "shell.execute_reply.started": "2025-09-17T07:26:03.290528Z"
    },
    "trusted": true
   },
   "outputs": [],
   "source": [
    "# View the value count of date column\n",
    "# print(df['closed_time'].value_counts())\n",
    "# print(df['original_listed_time'].value_counts())\n",
    "# print(df['listed_time'].value_counts())"
   ]
  },
  {
   "cell_type": "markdown",
   "metadata": {
    "_cell_guid": "94505cfd-9871-4745-8935-d6cdb1e1d820",
    "_uuid": "10d42db4-b1a7-4d60-84da-f4ef0fbd3ba7",
    "collapsed": false,
    "jupyter": {
     "outputs_hidden": false
    },
    "trusted": true
   },
   "source": [
    "***Unique Values of Categorical columns***"
   ]
  },
  {
   "cell_type": "code",
   "execution_count": null,
   "metadata": {
    "_cell_guid": "30221905-15c6-4192-8c69-f6b85ade3d0d",
    "_uuid": "3a32acc9-9823-4126-918c-637393840ba7",
    "execution": {
     "iopub.execute_input": "2025-09-17T07:26:03.309436Z",
     "iopub.status.busy": "2025-09-17T07:26:03.308914Z",
     "iopub.status.idle": "2025-09-17T07:26:03.562053Z",
     "shell.execute_reply": "2025-09-17T07:26:03.560866Z",
     "shell.execute_reply.started": "2025-09-17T07:26:03.309409Z"
    },
    "trusted": true
   },
   "outputs": [],
   "source": [
    "# List of key categorical columns to check\n",
    "categorical_columns = [\n",
    "    'company_name', 'title', 'location', 'formatted_work_type', \n",
    "    'application_type', 'formatted_experience_level', 'posting_domain',\n",
    "    'work_type', 'currency', 'compensation_type', 'skill_abr', \n",
    "    'skill_name', 'industry_name'\n",
    "]\n",
    "\n",
    "# Loop through each column and print unique value counts\n",
    "for col in categorical_columns:\n",
    "    unique_count = df[col].nunique(dropna=True)  # exclude NaN in count\n",
    "    print(f\"Unique values in {col:<27}: {unique_count}\")"
   ]
  },
  {
   "cell_type": "markdown",
   "metadata": {
    "_cell_guid": "4b10e0af-6cf5-4a09-a904-315e5f33cb29",
    "_uuid": "e556df09-6dd9-483e-b760-6fbc670bbee5",
    "collapsed": false,
    "jupyter": {
     "outputs_hidden": false
    },
    "trusted": true
   },
   "source": [
    "- **Job Popularity:** With so many unique job titles, analysis can reveal trending roles and rare specialties.\n",
    "\n",
    "- **Market Mapping:** High counts for company, industry, and location support robust regional and sectoral job market mapping.\n",
    "\n",
    "- **Role Standardization:** Relatively few formatted work types and experience levels allow for effective grouping and aggregation for reporting.\n",
    "\n",
    "- **Platform Diversity:** Extensive posting domains enable comparison of job listing effectiveness across online platforms."
   ]
  },
  {
   "cell_type": "markdown",
   "metadata": {
    "_cell_guid": "54a298ea-9c2b-4d97-91c3-1047f3898074",
    "_uuid": "a3b46dd7-dfa9-407d-b334-942a7ec79d28",
    "collapsed": false,
    "jupyter": {
     "outputs_hidden": false
    },
    "trusted": true
   },
   "source": [
    "### 3. Data Cleaning"
   ]
  },
  {
   "cell_type": "markdown",
   "metadata": {
    "_cell_guid": "fd65cf1f-8fe8-492e-b673-8ec68c3afe63",
    "_uuid": "96646270-200f-40c6-bb19-c63cdedc773e",
    "collapsed": false,
    "jupyter": {
     "outputs_hidden": false
    },
    "trusted": true
   },
   "source": [
    "***Missing Values***"
   ]
  },
  {
   "cell_type": "code",
   "execution_count": null,
   "metadata": {
    "_cell_guid": "9441245a-56ac-4622-a291-b7cd17d7a364",
    "_uuid": "e61c5dcf-ae94-47c1-b551-4ca2a454da4b",
    "execution": {
     "iopub.execute_input": "2025-09-17T07:26:03.563429Z",
     "iopub.status.busy": "2025-09-17T07:26:03.563116Z",
     "iopub.status.idle": "2025-09-17T07:26:03.570578Z",
     "shell.execute_reply": "2025-09-17T07:26:03.569370Z",
     "shell.execute_reply.started": "2025-09-17T07:26:03.563405Z"
    },
    "trusted": true
   },
   "outputs": [],
   "source": [
    "# Check for any duplicate columns in the merged dataset\n",
    "duplicate_columns = df.columns[df.columns.duplicated()]\n",
    "duplicate_columns"
   ]
  },
  {
   "cell_type": "markdown",
   "metadata": {
    "_cell_guid": "ea06bf8a-14ae-44f3-8ad5-37918e616ac4",
    "_uuid": "df573568-0da2-4c63-8de6-efed4ca317c5",
    "collapsed": false,
    "jupyter": {
     "outputs_hidden": false
    },
    "trusted": true
   },
   "source": [
    "Hence, No duplicate column names were found"
   ]
  },
  {
   "cell_type": "code",
   "execution_count": null,
   "metadata": {
    "_cell_guid": "4097430c-40f4-4b75-b853-1b49f6cc4351",
    "_uuid": "5dee207f-31fa-4ea4-a839-0e1bf55307b5",
    "execution": {
     "iopub.execute_input": "2025-09-17T07:26:03.571893Z",
     "iopub.status.busy": "2025-09-17T07:26:03.571548Z",
     "iopub.status.idle": "2025-09-17T07:26:03.609058Z",
     "shell.execute_reply": "2025-09-17T07:26:03.607636Z",
     "shell.execute_reply.started": "2025-09-17T07:26:03.571864Z"
    },
    "trusted": true
   },
   "outputs": [],
   "source": [
    "# df[['formatted_work_type','work_type', 'skill_abr', 'skill_name']].head()"
   ]
  },
  {
   "cell_type": "code",
   "execution_count": null,
   "metadata": {
    "_cell_guid": "c9506e01-7195-4120-8a04-702cc56b4e3e",
    "_uuid": "968fd3c6-00c9-4165-b7bc-ef7e257fa781",
    "execution": {
     "iopub.execute_input": "2025-09-17T07:26:03.612013Z",
     "iopub.status.busy": "2025-09-17T07:26:03.611115Z",
     "iopub.status.idle": "2025-09-17T07:26:03.665075Z",
     "shell.execute_reply": "2025-09-17T07:26:03.663863Z",
     "shell.execute_reply.started": "2025-09-17T07:26:03.611969Z"
    },
    "trusted": true
   },
   "outputs": [],
   "source": [
    "# Drop skill_abr and work_type\n",
    "\n",
    "df.drop(columns=['skill_abr', 'work_type'], inplace=True)"
   ]
  },
  {
   "cell_type": "markdown",
   "metadata": {
    "_cell_guid": "75a40f46-6095-4f6c-bf7f-d578b3b46db9",
    "_uuid": "e5fef667-c2a6-4a5a-9ed2-c68406c8f46c",
    "collapsed": false,
    "jupyter": {
     "outputs_hidden": false
    },
    "trusted": true
   },
   "source": [
    "***NULL Values***"
   ]
  },
  {
   "cell_type": "code",
   "execution_count": null,
   "metadata": {
    "_cell_guid": "1f1293eb-1ffb-4b6d-a005-93e77294a62a",
    "_uuid": "8d58b792-d03f-4bca-b703-29d5c4c8b38e",
    "execution": {
     "iopub.execute_input": "2025-09-17T07:26:03.666391Z",
     "iopub.status.busy": "2025-09-17T07:26:03.666105Z",
     "iopub.status.idle": "2025-09-17T07:26:03.920022Z",
     "shell.execute_reply": "2025-09-17T07:26:03.919117Z",
     "shell.execute_reply.started": "2025-09-17T07:26:03.666370Z"
    },
    "trusted": true
   },
   "outputs": [],
   "source": [
    "# Check for Null values of complete dataset\n",
    "df.isnull().sum()"
   ]
  },
  {
   "cell_type": "code",
   "execution_count": null,
   "metadata": {
    "_cell_guid": "c0c280ec-684b-49ec-9efc-a4ad371f52a6",
    "_uuid": "5ba7686a-507c-4b5c-b6d2-5edb8a5d5851",
    "execution": {
     "iopub.execute_input": "2025-09-17T07:26:03.921646Z",
     "iopub.status.busy": "2025-09-17T07:26:03.921058Z",
     "iopub.status.idle": "2025-09-17T07:26:04.164857Z",
     "shell.execute_reply": "2025-09-17T07:26:04.163879Z",
     "shell.execute_reply.started": "2025-09-17T07:26:03.921623Z"
    },
    "trusted": true
   },
   "outputs": [],
   "source": [
    "# List out the columns in the dataset where Only NULL values are present\n",
    "\n",
    "null_columns=df.columns[df.isnull().any()]\n",
    "null_columns"
   ]
  },
  {
   "cell_type": "code",
   "execution_count": null,
   "metadata": {
    "_cell_guid": "ac09606b-7d6f-4e02-ab38-47e57a8993f1",
    "_uuid": "bf8cab4f-cb7c-46fe-a063-3fefe8d3420b",
    "execution": {
     "iopub.execute_input": "2025-09-17T07:26:04.168339Z",
     "iopub.status.busy": "2025-09-17T07:26:04.167186Z",
     "iopub.status.idle": "2025-09-17T07:26:04.439906Z",
     "shell.execute_reply": "2025-09-17T07:26:04.439056Z",
     "shell.execute_reply.started": "2025-09-17T07:26:04.168270Z"
    },
    "trusted": true
   },
   "outputs": [],
   "source": [
    "# View the count of null values in each of these columns  and its percentage\n",
    "\n",
    "null_data = pd.DataFrame({'Null Count': df[null_columns].isnull().sum()})\n",
    "null_data['Percentage'] = (null_data['Null Count'] / len(df)) * 100\n",
    "null_data['Data Type'] = df[null_columns].dtypes\n",
    "null_data"
   ]
  },
  {
   "cell_type": "markdown",
   "metadata": {
    "_cell_guid": "e620798d-84b9-48d6-833e-dcd4fc0c274b",
    "_uuid": "065a4e3f-1bb7-4d6b-a3b2-977a966cfc4c",
    "collapsed": false,
    "jupyter": {
     "outputs_hidden": false
    },
    "trusted": true
   },
   "source": [
    "> #### Highly incomplete data (Over 60% null)\n",
    "\n",
    "- **closed_time (99.57% null, float64):** This column is almost entirely empty. Unless the records are meant to be open-ended, the data source may have a major issue. This column is likely unusable and should be dropped.\n",
    "- **skills_desc (98.99% null, object):** With over 98% missing values, this column provides very little information. It is a strong candidate for deletion.\n",
    "- **remote_allowed (88.51% null, float64):** The vast majority of this data is missing. Consider whether this feature is essential for your analysis. It may need to be dropped or used with extreme caution.\n",
    "- **med_salary (94.52% null, float64), min_salary (69.81% null, float64), max_salary (69.81% null, float64), applies (78.98% null, float64):** The salary and application metrics are extremely incomplete. This could indicate a major data collection problem or that this information is optional. Using these columns for analysis would introduce significant bias.\n",
    "- **pay_period (64.34% null, object), currency (64.34% null, object), compensation_type (64.34% null, object), normalized_salary (64.34% null, float64):** Missing the same proportion of data as the salary columns, these are likely part of the same data collection process. The null values are probably not random and should be handled with care.\n",
    "\n",
    "> #### Moderately incomplete data (15% to 35% null)\n",
    " \n",
    "- **application_url (31.12% null, object), posting_domain (31.69% null, object):** The missing URLs suggest that a significant number of job postings may lack a direct application link. This could mean applications are handled via other means, such as the company's website.\n",
    "- **fips (21.50% null, float64):** This geo-coding data is moderately incomplete. The nulls may be for international jobs or simply missing data.\n",
    "- **formatted_experience_level (18.74% null, object):** Nearly one-fifth of the records are missing experience level. This is a crucial feature that could be imputed using other job posting information.\n",
    "- **zip_code_x (15.88% null, float64):** The null values could correspond to international jobs or incomplete entries. \n",
    "\n",
    "> #### Minimally incomplete data (Under 5% null)\n",
    "\n",
    "- **Job-related (company_name, company_id, description_x, skill_abr, skill_name):** These core job-related fields have negligible null percentages.\n",
    "- **Company-related (industry_id, industry_name, name, description_y, company_size, state, country, city, zip_code_y, address, url, industry, employee_count, follower_count):** Most company profile information is nearly complete.\n",
    "- **views (1.22% null, float64) and speciality (2.28% null, object):** These fields are also largely complete.\n",
    "- **time_recorded (0.04% null, float64):** This is a very reliable timestamp."
   ]
  },
  {
   "cell_type": "code",
   "execution_count": null,
   "metadata": {
    "_cell_guid": "880b8944-4d83-4169-ad32-21f7a283934e",
    "_uuid": "c3d8be01-a4c5-440f-a0c2-6835b14e49c1",
    "execution": {
     "iopub.execute_input": "2025-09-17T07:26:04.441542Z",
     "iopub.status.busy": "2025-09-17T07:26:04.441152Z",
     "iopub.status.idle": "2025-09-17T07:26:04.451399Z",
     "shell.execute_reply": "2025-09-17T07:26:04.450267Z",
     "shell.execute_reply.started": "2025-09-17T07:26:04.441510Z"
    },
    "trusted": true
   },
   "outputs": [],
   "source": [
    "# Separate columns based on null value percentage\n",
    "\n",
    "high_null_cols = null_data[null_data['Percentage'] > 60]\n",
    "moderate_null_cols = null_data[(null_data['Percentage'] >= 15) & (null_data['Percentage'] <= 40)]\n",
    "low_null_cols = null_data[null_data['Percentage'] < 15]"
   ]
  },
  {
   "cell_type": "code",
   "execution_count": null,
   "metadata": {
    "_cell_guid": "f3bc0a94-855c-4c67-8a15-42b016764d8c",
    "_uuid": "5f3ba4d3-983d-44e8-8cc9-22bc9a4d3799",
    "execution": {
     "iopub.execute_input": "2025-09-17T07:26:04.453591Z",
     "iopub.status.busy": "2025-09-17T07:26:04.453193Z",
     "iopub.status.idle": "2025-09-17T07:26:04.496856Z",
     "shell.execute_reply": "2025-09-17T07:26:04.495833Z",
     "shell.execute_reply.started": "2025-09-17T07:26:04.453558Z"
    },
    "trusted": true
   },
   "outputs": [],
   "source": [
    "# We use keys and axis=1 to stack them horizontally with meaningful column titles\n",
    "combined_df = pd.concat([high_null_cols, moderate_null_cols, low_null_cols],\n",
    "                        axis=1,\n",
    "                        keys=['High Null Cols (> 60%)', 'Moderate Null Cols (15%-40%)', 'Low Null Cols (< 15%)'])\n",
    "\n",
    "combined_df"
   ]
  },
  {
   "cell_type": "code",
   "execution_count": null,
   "metadata": {
    "_cell_guid": "aaf05f08-ed3d-4e42-99a0-45e443e91f00",
    "_uuid": "8574c9d6-9311-48b3-8316-4392ffd87c48",
    "execution": {
     "iopub.execute_input": "2025-09-17T07:26:04.498128Z",
     "iopub.status.busy": "2025-09-17T07:26:04.497847Z",
     "iopub.status.idle": "2025-09-17T07:26:04.503157Z",
     "shell.execute_reply": "2025-09-17T07:26:04.502176Z",
     "shell.execute_reply.started": "2025-09-17T07:26:04.498106Z"
    },
    "trusted": true
   },
   "outputs": [],
   "source": [
    "# View the High Null Columns (> 60%)\n",
    "# df[high_null_cols.index].head()"
   ]
  },
  {
   "cell_type": "code",
   "execution_count": null,
   "metadata": {
    "_cell_guid": "1e33ed67-e1ad-4392-a45d-21858ce724aa",
    "_uuid": "c9950529-12c3-4fdc-a284-190b3ded636e",
    "execution": {
     "iopub.execute_input": "2025-09-17T07:26:04.504861Z",
     "iopub.status.busy": "2025-09-17T07:26:04.504532Z",
     "iopub.status.idle": "2025-09-17T07:26:04.526100Z",
     "shell.execute_reply": "2025-09-17T07:26:04.525127Z",
     "shell.execute_reply.started": "2025-09-17T07:26:04.504839Z"
    },
    "trusted": true
   },
   "outputs": [],
   "source": [
    "# View the Moderate Null Columns (15% - 40%)\n",
    "\n",
    "# df[moderate_null_cols.index].head()"
   ]
  },
  {
   "cell_type": "code",
   "execution_count": null,
   "metadata": {
    "_cell_guid": "fb9485b4-5bf6-4ae8-95cb-35c1dbd457e8",
    "_uuid": "1cf9d4ed-ac9a-41ef-909c-9a72bc54f32a",
    "execution": {
     "iopub.execute_input": "2025-09-17T07:26:04.527231Z",
     "iopub.status.busy": "2025-09-17T07:26:04.526947Z",
     "iopub.status.idle": "2025-09-17T07:26:04.547524Z",
     "shell.execute_reply": "2025-09-17T07:26:04.546632Z",
     "shell.execute_reply.started": "2025-09-17T07:26:04.527210Z"
    },
    "trusted": true
   },
   "outputs": [],
   "source": [
    "# View the Low Null Columns (< 5%)\n",
    "\n",
    "# df[low_null_cols.index].head()"
   ]
  },
  {
   "cell_type": "code",
   "execution_count": null,
   "metadata": {
    "_cell_guid": "305fdf80-4ec6-4935-aadc-7332a7612d6e",
    "_uuid": "9360eb06-882f-4149-af1a-226e59da68f2",
    "execution": {
     "iopub.execute_input": "2025-09-17T07:26:04.549245Z",
     "iopub.status.busy": "2025-09-17T07:26:04.549014Z",
     "iopub.status.idle": "2025-09-17T07:26:04.569715Z",
     "shell.execute_reply": "2025-09-17T07:26:04.568747Z",
     "shell.execute_reply.started": "2025-09-17T07:26:04.549227Z"
    },
    "trusted": true
   },
   "outputs": [],
   "source": [
    "# low_null_cols"
   ]
  },
  {
   "cell_type": "markdown",
   "metadata": {
    "_cell_guid": "e0eada6b-913a-41df-aa36-7e7e60599eaa",
    "_uuid": "c409c6e8-aec1-4cf5-85fb-b82870aaf2a6",
    "collapsed": false,
    "jupyter": {
     "outputs_hidden": false
    },
    "trusted": true
   },
   "source": [
    "***Dropping High Null Values***"
   ]
  },
  {
   "cell_type": "code",
   "execution_count": null,
   "metadata": {
    "_cell_guid": "992e6370-30f9-4181-869d-93a68909e9b4",
    "_uuid": "0988ecc8-27e4-430e-be6e-580005f4f260",
    "execution": {
     "iopub.execute_input": "2025-09-17T07:26:04.577934Z",
     "iopub.status.busy": "2025-09-17T07:26:04.577570Z",
     "iopub.status.idle": "2025-09-17T07:26:04.640935Z",
     "shell.execute_reply": "2025-09-17T07:26:04.639825Z",
     "shell.execute_reply.started": "2025-09-17T07:26:04.577911Z"
    },
    "trusted": true
   },
   "outputs": [],
   "source": [
    "# Remove columns with high null values (> 60%)\n",
    "\n",
    "df.drop(columns=high_null_cols.index, inplace=True)"
   ]
  },
  {
   "cell_type": "code",
   "execution_count": null,
   "metadata": {
    "_cell_guid": "0077c718-8df1-4f06-b2ad-5c7047611526",
    "_uuid": "d1f04f22-d40e-4df5-b54c-1502cc8f06f4",
    "execution": {
     "iopub.execute_input": "2025-09-17T07:26:04.642430Z",
     "iopub.status.busy": "2025-09-17T07:26:04.642075Z",
     "iopub.status.idle": "2025-09-17T07:26:04.655278Z",
     "shell.execute_reply": "2025-09-17T07:26:04.653929Z",
     "shell.execute_reply.started": "2025-09-17T07:26:04.642400Z"
    },
    "trusted": true
   },
   "outputs": [],
   "source": [
    "# Combine moderate and low null columns for further analysis\n",
    "\n",
    "moderate_low_null_cols = pd.concat([moderate_null_cols, low_null_cols]) \n",
    "moderate_low_null_cols"
   ]
  },
  {
   "cell_type": "markdown",
   "metadata": {
    "_cell_guid": "8ad0f6ae-18d9-4a1f-b70f-d4816f963807",
    "_uuid": "3b6604fc-43ce-41f6-bdc0-ccfd72d8d2d1",
    "collapsed": false,
    "jupyter": {
     "outputs_hidden": false
    },
    "trusted": true
   },
   "source": [
    "***Handling Null Values***"
   ]
  },
  {
   "cell_type": "code",
   "execution_count": null,
   "metadata": {
    "_cell_guid": "ebbcea97-0736-4005-957e-55bbe70f7ccf",
    "_uuid": "1a93fbef-4aed-409d-9ab3-6dfee45f3271",
    "execution": {
     "iopub.execute_input": "2025-09-17T07:26:04.656737Z",
     "iopub.status.busy": "2025-09-17T07:26:04.656384Z",
     "iopub.status.idle": "2025-09-17T07:26:04.776599Z",
     "shell.execute_reply": "2025-09-17T07:26:04.775874Z",
     "shell.execute_reply.started": "2025-09-17T07:26:04.656714Z"
    },
    "trusted": true
   },
   "outputs": [],
   "source": [
    "# Separate the Numeric and Categorical columns of moderate_low_null_cols\n",
    "\n",
    "numeric_cols = df[moderate_low_null_cols.index].select_dtypes(include=[np.number]).columns.tolist()\n",
    "categorical_cols = df[moderate_low_null_cols.index].select_dtypes(include=['object', 'category']).columns.tolist()\n",
    "\n",
    "# Print the numeric and categorical columns\n",
    "print(\"Columns with Moderate and Low Null Values:\")\n",
    "print(\"--\"*25)\n",
    "print(f\"Numeric Column      :\", numeric_cols)\n",
    "print(f\"Categorical Column  :\", categorical_cols)"
   ]
  },
  {
   "cell_type": "code",
   "execution_count": null,
   "metadata": {
    "_cell_guid": "7dbd0b8b-ff51-487c-ba54-a4faad702d3e",
    "_uuid": "642a8eb1-4f90-461d-8591-4d615ee98733",
    "execution": {
     "iopub.execute_input": "2025-09-17T07:26:04.778075Z",
     "iopub.status.busy": "2025-09-17T07:26:04.777578Z",
     "iopub.status.idle": "2025-09-17T07:26:04.783061Z",
     "shell.execute_reply": "2025-09-17T07:26:04.781795Z",
     "shell.execute_reply.started": "2025-09-17T07:26:04.778043Z"
    },
    "trusted": true
   },
   "outputs": [],
   "source": [
    "#df[numeric_cols].info(), df[categorical_cols].info()"
   ]
  },
  {
   "cell_type": "code",
   "execution_count": null,
   "metadata": {
    "_cell_guid": "aed00a79-3456-447d-be77-c3d9cee1eb90",
    "_uuid": "d7ab97a4-8d72-485f-99ae-8005d7b6ac98",
    "execution": {
     "iopub.execute_input": "2025-09-17T07:26:04.784702Z",
     "iopub.status.busy": "2025-09-17T07:26:04.784374Z",
     "iopub.status.idle": "2025-09-17T07:26:04.818240Z",
     "shell.execute_reply": "2025-09-17T07:26:04.817251Z",
     "shell.execute_reply.started": "2025-09-17T07:26:04.784673Z"
    },
    "trusted": true
   },
   "outputs": [],
   "source": [
    "# View only the Numeric dataset\n",
    "df[numeric_cols].head()"
   ]
  },
  {
   "cell_type": "code",
   "execution_count": null,
   "metadata": {
    "_cell_guid": "3b3e13f9-9b49-48a4-945a-28feb3f6754f",
    "_uuid": "aeb29eeb-d303-4dde-b3b3-d583bfefecc1",
    "execution": {
     "iopub.execute_input": "2025-09-17T07:26:04.819992Z",
     "iopub.status.busy": "2025-09-17T07:26:04.819649Z",
     "iopub.status.idle": "2025-09-17T07:26:04.851223Z",
     "shell.execute_reply": "2025-09-17T07:26:04.850367Z",
     "shell.execute_reply.started": "2025-09-17T07:26:04.819966Z"
    },
    "trusted": true
   },
   "outputs": [],
   "source": [
    "# View only the Categorical dataset\n",
    "df[categorical_cols].head()"
   ]
  },
  {
   "cell_type": "markdown",
   "metadata": {
    "_cell_guid": "d5f81e88-6348-4152-b529-5c5d3b6acc5b",
    "_uuid": "17d40029-cd47-4c05-bdd8-a835aee19403",
    "collapsed": false,
    "jupyter": {
     "outputs_hidden": false
    },
    "trusted": true
   },
   "source": [
    "***Median Fill***"
   ]
  },
  {
   "cell_type": "code",
   "execution_count": null,
   "metadata": {
    "_cell_guid": "adf32574-3112-454e-a544-e89e358c809a",
    "_uuid": "f43bd6ec-1477-4bc2-96ea-092659100dba",
    "execution": {
     "iopub.execute_input": "2025-09-17T07:26:04.852408Z",
     "iopub.status.busy": "2025-09-17T07:26:04.852140Z",
     "iopub.status.idle": "2025-09-17T07:26:04.904167Z",
     "shell.execute_reply": "2025-09-17T07:26:04.902961Z",
     "shell.execute_reply.started": "2025-09-17T07:26:04.852388Z"
    },
    "trusted": true
   },
   "outputs": [],
   "source": [
    "# 1. Apply Median Imputation\n",
    "for col in numeric_cols:\n",
    "    df[col] = df[col].fillna(df[col].median()) \n",
    "\n",
    "print(\"\\nDataFrame after filling nulls in numeric columns (mean imputation):\")\n",
    "df[numeric_cols].isnull().sum()"
   ]
  },
  {
   "cell_type": "code",
   "execution_count": null,
   "metadata": {
    "_cell_guid": "2c53b7a8-a758-49fb-b7ec-6c75b20c28bd",
    "_uuid": "d2860a68-6d34-48da-9f5e-e5b24b37f412",
    "execution": {
     "iopub.execute_input": "2025-09-17T07:26:04.905493Z",
     "iopub.status.busy": "2025-09-17T07:26:04.905168Z",
     "iopub.status.idle": "2025-09-17T07:26:05.073664Z",
     "shell.execute_reply": "2025-09-17T07:26:05.072420Z",
     "shell.execute_reply.started": "2025-09-17T07:26:04.905462Z"
    },
    "trusted": true
   },
   "outputs": [],
   "source": [
    "# Re-Check Null value count \n",
    "\n",
    "df[moderate_low_null_cols.index].isnull().sum()"
   ]
  },
  {
   "cell_type": "markdown",
   "metadata": {
    "_cell_guid": "f1e767cf-78ab-4ec6-a1d6-1b0753410dbe",
    "_uuid": "56b7e0c0-8666-49c3-9dea-2e97fc2849d5",
    "collapsed": false,
    "jupyter": {
     "outputs_hidden": false
    },
    "trusted": true
   },
   "source": [
    "***Mode Fill***"
   ]
  },
  {
   "cell_type": "code",
   "execution_count": null,
   "metadata": {
    "_cell_guid": "34138aac-20f1-483c-a4c6-a9d2a98bb171",
    "_uuid": "fe7a0feb-f042-4017-aaaf-cfe871526d68",
    "execution": {
     "iopub.execute_input": "2025-09-17T07:26:05.075196Z",
     "iopub.status.busy": "2025-09-17T07:26:05.074721Z",
     "iopub.status.idle": "2025-09-17T07:26:05.444228Z",
     "shell.execute_reply": "2025-09-17T07:26:05.443393Z",
     "shell.execute_reply.started": "2025-09-17T07:26:05.075150Z"
    },
    "trusted": true
   },
   "outputs": [],
   "source": [
    "# Filling Null values in Categorical Columns for Less than 1% with Mode\n",
    "\n",
    "df['company_name'] = df['company_name'].fillna(df['company_name'].mode()[0])\n",
    "#df['skill_abr'] = df['skill_abr'].fillna(df['skill_abr'].mode()[0])\n",
    "df['skill_name'] = df['skill_name'].fillna(df['skill_name'].mode()[0])    \n",
    "df['industry_name'] = df['industry_name'].fillna(df['industry_name'].mode()[0])\n",
    "df['description'] = df['description'].fillna(df['description'].mode()[0])"
   ]
  },
  {
   "cell_type": "code",
   "execution_count": null,
   "metadata": {
    "_cell_guid": "e7ba5d57-d2bd-4f79-aadf-ef0bb86f0b55",
    "_uuid": "089e997b-7416-486d-8007-4dc69496cc7d",
    "execution": {
     "iopub.execute_input": "2025-09-17T07:26:05.445434Z",
     "iopub.status.busy": "2025-09-17T07:26:05.445109Z",
     "iopub.status.idle": "2025-09-17T07:26:05.610137Z",
     "shell.execute_reply": "2025-09-17T07:26:05.609161Z",
     "shell.execute_reply.started": "2025-09-17T07:26:05.445405Z"
    },
    "trusted": true
   },
   "outputs": [],
   "source": [
    "# Check Null value count in Moderate and Low Null Columns after Mode Fill\n",
    "df[moderate_low_null_cols.index].isnull().sum()/ len(df) * 100"
   ]
  },
  {
   "cell_type": "markdown",
   "metadata": {
    "_cell_guid": "c5d5c35e-ef32-4568-8424-96dc94132eb6",
    "_uuid": "09d9ee86-4bb5-4677-aefd-b949c0915ab7",
    "collapsed": false,
    "jupyter": {
     "outputs_hidden": false
    },
    "trusted": true
   },
   "source": [
    "***Backward/ Forward Fill***"
   ]
  },
  {
   "cell_type": "code",
   "execution_count": null,
   "metadata": {
    "_cell_guid": "01ebc4c3-a35c-4374-be4e-316bb937c414",
    "_uuid": "d6bd5d5a-2954-4c78-80c8-f2797af9d6d6",
    "execution": {
     "iopub.execute_input": "2025-09-17T07:26:05.611654Z",
     "iopub.status.busy": "2025-09-17T07:26:05.611350Z",
     "iopub.status.idle": "2025-09-17T07:26:05.762891Z",
     "shell.execute_reply": "2025-09-17T07:26:05.761986Z",
     "shell.execute_reply.started": "2025-09-17T07:26:05.611612Z"
    },
    "trusted": true
   },
   "outputs": [],
   "source": [
    "# Fill Null values in Categorical Columns with Backward Fill and Forward Fill\n",
    "\n",
    "df['application_url'] = df['application_url'].bfill()   \n",
    "df['formatted_experience_level'] = df['formatted_experience_level'].ffill()\n",
    "df['posting_domain'] = df['posting_domain'].bfill().ffill()"
   ]
  },
  {
   "cell_type": "code",
   "execution_count": null,
   "metadata": {
    "_cell_guid": "8e8b43b4-ec5a-475e-83ef-aa527f795a62",
    "_uuid": "ef98bc4c-ea9e-4ccd-8e9a-a44ade512b01",
    "execution": {
     "iopub.execute_input": "2025-09-17T07:26:05.764115Z",
     "iopub.status.busy": "2025-09-17T07:26:05.763841Z",
     "iopub.status.idle": "2025-09-17T07:26:05.769252Z",
     "shell.execute_reply": "2025-09-17T07:26:05.768030Z",
     "shell.execute_reply.started": "2025-09-17T07:26:05.764094Z"
    },
    "trusted": true
   },
   "outputs": [],
   "source": [
    "# Check Null value count in Moderate and Low Null Columns after Backward Fill and Forward Fill\n",
    "# df[moderate_low_null_cols.index].isnull().sum()"
   ]
  },
  {
   "cell_type": "code",
   "execution_count": null,
   "metadata": {
    "_cell_guid": "2d40ce08-a300-4d20-af24-92d5e9687fa9",
    "_uuid": "e35c2e0b-6366-4782-842b-75ed47bacd7f",
    "execution": {
     "iopub.execute_input": "2025-09-17T07:26:05.770878Z",
     "iopub.status.busy": "2025-09-17T07:26:05.770508Z",
     "iopub.status.idle": "2025-09-17T07:26:05.942725Z",
     "shell.execute_reply": "2025-09-17T07:26:05.941927Z",
     "shell.execute_reply.started": "2025-09-17T07:26:05.770842Z"
    },
    "trusted": true
   },
   "outputs": [],
   "source": [
    "# Fill the left Null values in Categorical Columns with Mode\n",
    "\n",
    "df['application_url'] = df['application_url'].fillna(df['application_url'].mode()[0])\n",
    "df['formatted_experience_level'] = df['formatted_experience_level'].fillna(df['formatted_experience_level'].mode()[0])"
   ]
  },
  {
   "cell_type": "code",
   "execution_count": null,
   "metadata": {
    "_cell_guid": "86ddfc19-a18e-41e5-a402-cc08bdf4695d",
    "_uuid": "314b5d9f-2b66-46d2-83e9-06673486d903",
    "execution": {
     "iopub.execute_input": "2025-09-17T07:26:05.944028Z",
     "iopub.status.busy": "2025-09-17T07:26:05.943617Z",
     "iopub.status.idle": "2025-09-17T07:26:05.948831Z",
     "shell.execute_reply": "2025-09-17T07:26:05.947853Z",
     "shell.execute_reply.started": "2025-09-17T07:26:05.944006Z"
    },
    "trusted": true
   },
   "outputs": [],
   "source": [
    "# Check Null value count in Moderate and Low Null Columns after Backward Fill and Forward Fill\n",
    "# df[moderate_low_null_cols.index].isnull().sum()"
   ]
  },
  {
   "cell_type": "markdown",
   "metadata": {
    "_cell_guid": "6b0a7eae-86ae-44a1-9098-43dc165886bd",
    "_uuid": "c9cba2cc-dd6b-4fb3-a143-09af0f142deb",
    "collapsed": false,
    "jupyter": {
     "outputs_hidden": false
    },
    "trusted": true
   },
   "source": [
    "***Final Null Value Check***"
   ]
  },
  {
   "cell_type": "code",
   "execution_count": null,
   "metadata": {
    "_cell_guid": "03362069-d4db-40e2-9999-90d5c11bbf37",
    "_uuid": "2fca7dbf-f1a0-4b38-99b1-f29cdb67edf3",
    "execution": {
     "iopub.execute_input": "2025-09-17T07:26:05.949996Z",
     "iopub.status.busy": "2025-09-17T07:26:05.949771Z",
     "iopub.status.idle": "2025-09-17T07:26:06.173939Z",
     "shell.execute_reply": "2025-09-17T07:26:06.172689Z",
     "shell.execute_reply.started": "2025-09-17T07:26:05.949978Z"
    },
    "trusted": true
   },
   "outputs": [],
   "source": [
    "# Check for null values in each column\n",
    "df.isnull().sum()/ len(df) * 100"
   ]
  },
  {
   "cell_type": "markdown",
   "metadata": {
    "_cell_guid": "64f41fa7-f573-4345-b545-ea042813b69e",
    "_uuid": "be5062b8-6dcd-4545-bef4-7ff342fdf35b",
    "collapsed": false,
    "jupyter": {
     "outputs_hidden": false
    },
    "trusted": true
   },
   "source": [
    "### **4.\tExploratory Data Analysis (EDA)**"
   ]
  },
  {
   "cell_type": "markdown",
   "metadata": {
    "_cell_guid": "beb36ca3-e1f6-4d18-bf0b-cb5bec564f34",
    "_uuid": "73e8db3b-263a-4d9e-a399-6771ca08d904",
    "collapsed": false,
    "jupyter": {
     "outputs_hidden": false
    },
    "trusted": true
   },
   "source": [
    "#### Uni-Variate Analysis"
   ]
  },
  {
   "cell_type": "markdown",
   "metadata": {
    "_cell_guid": "54957d21-5b18-4343-8a2c-839505c5b52f",
    "_uuid": "3f601952-b4e9-4286-9329-f1e2a9219d28",
    "collapsed": false,
    "jupyter": {
     "outputs_hidden": false
    },
    "trusted": true
   },
   "source": [
    "***Separating Numeric and Categorical Column***"
   ]
  },
  {
   "cell_type": "code",
   "execution_count": null,
   "metadata": {
    "_cell_guid": "3496343f-7395-474c-b8d1-ed382e80a550",
    "_uuid": "1142b3bb-fda6-4a10-9ba5-60a769c9ca13",
    "execution": {
     "iopub.execute_input": "2025-09-17T07:26:06.175433Z",
     "iopub.status.busy": "2025-09-17T07:26:06.175039Z",
     "iopub.status.idle": "2025-09-17T07:26:06.406438Z",
     "shell.execute_reply": "2025-09-17T07:26:06.405264Z",
     "shell.execute_reply.started": "2025-09-17T07:26:06.175400Z"
    },
    "trusted": true
   },
   "outputs": [],
   "source": [
    "#Separate the Numeric and Categorical columns\n",
    "\n",
    "numeric_cols = df.select_dtypes(include=[np.number]).columns.tolist()\n",
    "categorical_cols = df.select_dtypes(include=['object', 'category']).columns.tolist()\n",
    "\n",
    "# Print the numeric and categorical columns\n",
    "print(\"Separated Columns :\")\n",
    "print(\"--\"*25)\n",
    "print(f\"Numeric Column      :\", numeric_cols)\n",
    "print(f\"Categorical Column  :\", categorical_cols)"
   ]
  },
  {
   "cell_type": "code",
   "execution_count": null,
   "metadata": {
    "_cell_guid": "e5659246-22db-4080-b969-4c8e7ca41bea",
    "_uuid": "9e5fe384-33fe-4542-aa49-0ff07394d054",
    "execution": {
     "iopub.execute_input": "2025-09-17T07:26:06.408029Z",
     "iopub.status.busy": "2025-09-17T07:26:06.407655Z",
     "iopub.status.idle": "2025-09-17T07:26:19.505606Z",
     "shell.execute_reply": "2025-09-17T07:26:19.504404Z",
     "shell.execute_reply.started": "2025-09-17T07:26:06.407992Z"
    },
    "trusted": true
   },
   "outputs": [],
   "source": [
    "# Check data distribution of Numeric Columns with Histogram and Boxplot\n",
    "\n",
    "import matplotlib.pyplot as plt\n",
    "import seaborn as sns\n",
    "import math\n",
    "\n",
    "n_cols = 4\n",
    "n_numeric = len(numeric_cols)\n",
    "n_rows = math.ceil(n_numeric / n_cols)\n",
    "\n",
    "fig, axes = plt.subplots(n_rows, n_cols, figsize=(20, 4 * n_rows))\n",
    "axes = axes.flatten()\n",
    "\n",
    "for i, col in enumerate(numeric_cols):\n",
    "    ax = axes[i]\n",
    "    # Histogram with KDE\n",
    "    sns.histplot(df[col].dropna(), bins=30, kde=True, color='Red', ax=ax)\n",
    "    ax.set_title(f'Histogram & KDE of {col}')\n",
    "    ax.set_xlabel(col)\n",
    "    ax.set_ylabel('Frequency')\n",
    "    #ax.set_ylim(top=ax.get_ylim()[1] * 0.6)  # Optionally cap y-axis for compact plots\n",
    "\n",
    "    # Overlay boxplot below the histogram (secondary y-axis)\n",
    "    ax2 = ax.twinx()\n",
    "    ax2.boxplot(df[col].dropna(), vert=False, widths=0.2, positions=[ax.get_ylim()[1]/2])\n",
    "    ax2.get_yaxis().set_visible(False)\n",
    "\n",
    "# Hide unused subplots\n",
    "for i in range(n_numeric, len(axes)):\n",
    "    axes[i].set_visible(False)\n",
    "\n",
    "plt.tight_layout()\n",
    "plt.show()"
   ]
  },
  {
   "cell_type": "markdown",
   "metadata": {
    "_cell_guid": "bc251d28-d332-4c1b-89cf-f5f8a172a6c0",
    "_uuid": "72e5cdb5-2757-445b-ae6b-727641baeeb2",
    "collapsed": false,
    "jupyter": {
     "outputs_hidden": false
    },
    "trusted": true
   },
   "source": [
    "**Key Insights of Numeric Data Distribution:** \n",
    "\n",
    "- **Heavy Skewness:** Most numeric columns (job_id, company_id, views, expiry, sponsored, zip_code, fips, industry_id) display strong right-skew (long tail), meaning a few values are disproportionately larger than the bulk of the data. This suggests rare but extreme outliers, especially for fields like views and company_id.\n",
    "\n",
    "- **Distinct Clustering:** Features like zip_code and fips show visible clustering or spikes, corresponding to geographical or administrative boundaries, rather than random spread. This benefits location-based analyses and mapping.\n",
    "\n",
    "- **Dense Central Masses:** Many columns exhibit strong density near the minimum or median, highlighted by both the histogram mass and KDE peak, indicating most job postings conform to typical values and only a few deviate far outside.\n",
    "\n",
    "- **KDE Clarity:** The Kernel Density Estimate (KDE) curve overlays show the underlying data distribution shape and help spot multimodal characteristics (multiple peaks) in location or industry-related codes."
   ]
  },
  {
   "cell_type": "markdown",
   "metadata": {
    "_cell_guid": "28687759-4043-4b5d-8949-5986c7556ae3",
    "_uuid": "2409cf48-503f-4272-bb62-75e5d4988243",
    "collapsed": false,
    "jupyter": {
     "outputs_hidden": false
    },
    "trusted": true
   },
   "source": [
    "***Handling Outliers***"
   ]
  },
  {
   "cell_type": "code",
   "execution_count": null,
   "metadata": {
    "_cell_guid": "a573180e-4e05-4a74-8682-6dc3bda82c8e",
    "_uuid": "373e1cc0-23ad-4b23-8297-0fe5b93f88c0",
    "execution": {
     "iopub.execute_input": "2025-09-17T07:26:19.507839Z",
     "iopub.status.busy": "2025-09-17T07:26:19.507344Z",
     "iopub.status.idle": "2025-09-17T07:26:20.967570Z",
     "shell.execute_reply": "2025-09-17T07:26:20.966488Z",
     "shell.execute_reply.started": "2025-09-17T07:26:19.507813Z"
    },
    "trusted": true
   },
   "outputs": [],
   "source": [
    "# Plot Box Plot to see all the OUTLIERS\n",
    "import matplotlib.pyplot as plt\n",
    "\n",
    "fig, axes = plt.subplots(figsize=(20, 8))\n",
    "df[numeric_cols].plot(kind = 'box', subplots = True, ax=axes, layout = (2, 4))\n",
    "plt.show()"
   ]
  },
  {
   "cell_type": "markdown",
   "metadata": {
    "_cell_guid": "0b0a308d-0ab6-47e8-805d-4e1c66de8286",
    "_uuid": "72e8c984-157b-4358-8d9b-d442e8dfe65e",
    "collapsed": false,
    "jupyter": {
     "outputs_hidden": false
    },
    "trusted": true
   },
   "source": [
    "**Outlier & Spread Patterns**\n",
    "\n",
    "- **High cardinality or extreme outliers** are visible in job_id, company_id, expiry, industry_id, as well as the views column, where a few records vastly exceed the rest.\n",
    "\n",
    "- **Binary field:** The sponsored field displays a binary (likely 0/1) distribution with no meaningful outlier or spread.\n",
    "\n",
    "- **Geographic codes:** zip_code and fips show more classic boxplot shapes with visible ranges and central clustering, suggesting they represent structured identifiers within expected value ranges, though there is still moderate dispersion"
   ]
  },
  {
   "cell_type": "code",
   "execution_count": null,
   "metadata": {
    "_cell_guid": "026da2fc-36b8-49ba-adb1-75e55cb971d6",
    "_uuid": "381b6172-0fc4-4ca0-ac3c-ef803e9a8fe2",
    "execution": {
     "iopub.execute_input": "2025-09-17T07:26:20.968975Z",
     "iopub.status.busy": "2025-09-17T07:26:20.968680Z",
     "iopub.status.idle": "2025-09-17T07:26:20.976077Z",
     "shell.execute_reply": "2025-09-17T07:26:20.974819Z",
     "shell.execute_reply.started": "2025-09-17T07:26:20.968944Z"
    },
    "trusted": true
   },
   "outputs": [],
   "source": [
    "# Function for putting a cap value on each of the selected column to REMOVE the Extreme Outliers\n",
    "\n",
    "def cap_outliers(data, col_name):\n",
    "\n",
    "  for i in col_name:\n",
    "    Q1 = data[i].quantile(0.25)\n",
    "    Q3 = data[i].quantile(0.75)\n",
    "    IQR = Q3 - Q1\n",
    "\n",
    "    lower_bound = Q1 - (1.5 * IQR)\n",
    "    upper_bound = Q3 + (1.5 * IQR)\n",
    "\n",
    "    print(f\"Column: {i}\")\n",
    "    print(f\"Lower Bound: {lower_bound}\")\n",
    "    print(f\"Upper Bound: {upper_bound}\")\n",
    "\n",
    "    data[i] = np.where(data[i] < lower_bound, lower_bound, data[i])\n",
    "    data[i] = np.where(data[i] > upper_bound, upper_bound, data[i])\n",
    "\n",
    "  return data"
   ]
  },
  {
   "cell_type": "code",
   "execution_count": null,
   "metadata": {
    "_cell_guid": "a6e51c8d-1ffd-433a-833f-24c2904c6c87",
    "_uuid": "20c8daad-69af-47e7-a7a1-03e698114c1b",
    "execution": {
     "iopub.execute_input": "2025-09-17T07:26:20.978011Z",
     "iopub.status.busy": "2025-09-17T07:26:20.977546Z",
     "iopub.status.idle": "2025-09-17T07:26:21.110476Z",
     "shell.execute_reply": "2025-09-17T07:26:21.109416Z",
     "shell.execute_reply.started": "2025-09-17T07:26:20.977983Z"
    },
    "trusted": true
   },
   "outputs": [],
   "source": [
    "# Setting the cap value as defined in the Function for numeric columns\n",
    "\n",
    "df = cap_outliers(df, col_name=['job_id'])\n",
    "df = cap_outliers(df, col_name=['company_id'])\n",
    "df = cap_outliers(df, col_name=['views'])\n",
    "df = cap_outliers(df, col_name=['expiry'])\n",
    "df = cap_outliers(df, col_name=['sponsored'])\n",
    "df = cap_outliers(df, col_name=['zip_code'])\n",
    "df = cap_outliers(df, col_name=['fips'])\n",
    "df = cap_outliers(df, col_name=['industry_id'])"
   ]
  },
  {
   "cell_type": "code",
   "execution_count": null,
   "metadata": {
    "_cell_guid": "b161f3bf-e683-4486-92d3-601a7e15b063",
    "_uuid": "8c1e26e0-8fd7-48b5-987d-f62df5c1974c",
    "execution": {
     "iopub.execute_input": "2025-09-17T07:26:21.113043Z",
     "iopub.status.busy": "2025-09-17T07:26:21.112183Z",
     "iopub.status.idle": "2025-09-17T07:26:22.488670Z",
     "shell.execute_reply": "2025-09-17T07:26:22.487210Z",
     "shell.execute_reply.started": "2025-09-17T07:26:21.113016Z"
    },
    "trusted": true
   },
   "outputs": [],
   "source": [
    "# Plot box plots for all numeric columns using Plotly\n",
    "\n",
    "import plotly.graph_objs as go\n",
    "import plotly.subplots as sp\n",
    "\n",
    "# Automatically select numeric columns\n",
    "numeric_cols = df.select_dtypes(include=['float64', 'int64']).columns.tolist()\n",
    "\n",
    "# Create subplot grid for boxplots\n",
    "n = len(numeric_cols)\n",
    "cols = 4\n",
    "rows = (n // cols) + (n % cols > 0)\n",
    "fig = sp.make_subplots(rows=rows, cols=cols, subplot_titles=numeric_cols)\n",
    "\n",
    "for i, col in enumerate(numeric_cols):\n",
    "    row = (i // cols) + 1\n",
    "    col_num = (i % cols) + 1\n",
    "    fig.add_trace(\n",
    "        go.Box(y=df[col], name=col, boxmean='sd', boxpoints='outliers', orientation='v'),\n",
    "        row=row, col=col_num\n",
    "    )\n",
    "\n",
    "fig.update_layout(height=300 * rows, width=1200, title_text=\"Boxplots of Numeric Columns (Outlier Removed)\", showlegend=False)\n",
    "fig.show()"
   ]
  },
  {
   "cell_type": "markdown",
   "metadata": {},
   "source": [
    "**Key Insights:**\n",
    "\n",
    "- **Job and company IDs** show wide numeric ranges, reflecting **many unique jobs and companies**.\n",
    "\n",
    "- **Views** are **right-skewed**, with most postings receiving moderate attention, but some highly viewed.\n",
    "\n",
    "- Expiry dates cluster closely, indicating similar posting durations.\n",
    "\n",
    "- **Sponsored status** is almost binary with **very little variation** (mostly non-sponsored).\n",
    "\n",
    "- **Zip codes and geographic codes (FIPS) cover broad ranges**, showing wide location diversity."
   ]
  },
  {
   "cell_type": "code",
   "execution_count": null,
   "metadata": {
    "_cell_guid": "5125c8c0-de10-4673-990c-ec4a240c20ae",
    "_uuid": "f9bd1937-4a4d-4714-bdb2-3374ab964bc8",
    "execution": {
     "iopub.execute_input": "2025-09-17T07:26:22.490674Z",
     "iopub.status.busy": "2025-09-17T07:26:22.490145Z",
     "iopub.status.idle": "2025-09-17T07:26:22.496340Z",
     "shell.execute_reply": "2025-09-17T07:26:22.495141Z",
     "shell.execute_reply.started": "2025-09-17T07:26:22.490624Z"
    },
    "trusted": true
   },
   "outputs": [],
   "source": [
    "#categorical_cols"
   ]
  },
  {
   "cell_type": "code",
   "execution_count": null,
   "metadata": {
    "execution": {
     "iopub.execute_input": "2025-09-17T07:26:22.498770Z",
     "iopub.status.busy": "2025-09-17T07:26:22.498337Z",
     "iopub.status.idle": "2025-09-17T07:26:22.758410Z",
     "shell.execute_reply": "2025-09-17T07:26:22.756738Z",
     "shell.execute_reply.started": "2025-09-17T07:26:22.498730Z"
    },
    "trusted": true
   },
   "outputs": [],
   "source": [
    "# Plot Bar plots showing the frequency of the top 10 most common categories for Categorical columns\n",
    "\n",
    "import pandas as pd\n",
    "import plotly.graph_objects as go\n",
    "from plotly.subplots import make_subplots\n",
    "\n",
    "# Assuming df is your DataFrame\n",
    "cols = ['formatted_experience_level', 'posting_domain', 'company_name', 'skill_name', 'industry_name']\n",
    "\n",
    "# Custom headers for each graph\n",
    "custom_titles = [\n",
    "    'Experience Level Distribution',\n",
    "    'Top 10 Job Posting Domains',\n",
    "    'Top 10 Companies',\n",
    "    'Top 10 Key Skills in Demand',\n",
    "    'Top 10 Industries'\n",
    "]\n",
    "\n",
    "# Create subplot figure with one column and number of rows equal to number of cols\n",
    "fig = make_subplots(\n",
    "    rows=len(cols),\n",
    "    cols=1,\n",
    "    shared_xaxes=False,\n",
    "    vertical_spacing=0.04,\n",
    "    subplot_titles=custom_titles\n",
    ")\n",
    "\n",
    "# Add horizontal bar plots to each row with top 10 categories showing highest on top\n",
    "for i, col in enumerate(cols, 1):\n",
    "    count_data = df[col].value_counts().sort_values(ascending=False).head(10).reset_index()\n",
    "    count_data.columns = [col, 'count']\n",
    "    count_data = count_data.iloc[::-1]\n",
    "\n",
    "    fig.add_trace(\n",
    "        go.Bar(y=count_data[col], x=count_data['count'], orientation='h', name=col),\n",
    "        row=i,\n",
    "        col=1\n",
    "    )\n",
    "\n",
    "# Update layout: bold and center subplot headers by modifying annotations\n",
    "for annotation in fig['layout']['annotations']:\n",
    "    annotation['font'] = dict(size=16, color='black', family='Arial', weight='bold')\n",
    "    annotation['x'] = 0.5  # Center horizontally\n",
    "    annotation['xanchor'] = 'center'\n",
    "    annotation['yanchor'] = 'bottom'\n",
    "\n",
    "fig.update_layout(\n",
    "    height=300 * len(cols),\n",
    "    #title_text='Top 10 Horizontal Bar Plots in One Column',\n",
    "    showlegend=False\n",
    ")\n",
    "\n",
    "fig.show()\n"
   ]
  },
  {
   "cell_type": "markdown",
   "metadata": {
    "_cell_guid": "fb58987a-9403-4014-9499-9ee29c31bb12",
    "_uuid": "7bd6ee34-c836-47aa-929a-ce4e5f83f90a",
    "collapsed": false,
    "jupyter": {
     "outputs_hidden": false
    },
    "trusted": true
   },
   "source": [
    "**Key Insights :** \n",
    "\n",
    "**Experience Level Insights**\n",
    "\n",
    "- The Mid-Senior level segment dominates the market, far outnumbering any other experience tier, indicating high demand for experienced professionals.\n",
    "\n",
    "- Entry level roles are second in prevalence, but are much less common than mid-senior positions, highlighting a competitive gap for early career applicants.\n",
    "\n",
    "**Company and Domain Patterns**\n",
    "\n",
    "- Millennium Recruiting, Inc. holds the top spot for job postings, followed by DataAnnotation and Wells Fargo, suggesting these companies are highly active recruiters.\n",
    "\n",
    "- The primary posting platforms are jsv3.recruitics.com, click.appcast.io, and click2apply.net, which account for the bulk of job listings, a signal that centralized job domains facilitate most postings.\n",
    "\n",
    "**Skills and Industry Trends**\n",
    "\n",
    "- Information Technology is the leading skill, complemented by Sales, Management, and Manufacturing, highlighting continued dominance of tech combined with general business capabilities.\n",
    "\n",
    "- The most popular industries are Hospitals and Health Care, Retail, and IT Services/Consulting, revealing a concentration in healthcare and consumer services alongside ongoing tech industry growth."
   ]
  },
  {
   "cell_type": "code",
   "execution_count": null,
   "metadata": {
    "execution": {
     "iopub.execute_input": "2025-09-17T07:26:22.760091Z",
     "iopub.status.busy": "2025-09-17T07:26:22.759782Z",
     "iopub.status.idle": "2025-09-17T07:26:22.766738Z",
     "shell.execute_reply": "2025-09-17T07:26:22.765070Z",
     "shell.execute_reply.started": "2025-09-17T07:26:22.760067Z"
    },
    "trusted": true
   },
   "outputs": [],
   "source": [
    "# Replace these with your actual extracted data from df\n",
    "# top_500 = df['title'].value_counts().nlargest(500)\n",
    "# titles = top_500.index.tolist()  # List of titles\n",
    "# counts = top_500.values.tolist()  # List of corresponding counts "
   ]
  },
  {
   "cell_type": "code",
   "execution_count": null,
   "metadata": {
    "_cell_guid": "ec909be3-e2ec-4696-93a9-d540a734b389",
    "_uuid": "238c483a-d79d-4f58-aecb-c35c89ea0859",
    "execution": {
     "iopub.execute_input": "2025-09-17T07:26:22.768496Z",
     "iopub.status.busy": "2025-09-17T07:26:22.768158Z",
     "iopub.status.idle": "2025-09-17T07:26:30.490150Z",
     "shell.execute_reply": "2025-09-17T07:26:30.488902Z",
     "shell.execute_reply.started": "2025-09-17T07:26:22.768472Z"
    },
    "trusted": true
   },
   "outputs": [],
   "source": [
    "# Create a word colud visualization for Job Titles\n",
    "\n",
    "from wordcloud import WordCloud\n",
    "import matplotlib.pyplot as plt\n",
    "\n",
    "# Use your specific table and column name\n",
    "# Example: if your dataframe is named df and the column is 'title'\n",
    "job_titles_text = ' '.join(df['title'].astype(str))\n",
    "\n",
    "# Generate the word cloud with a colored colormap (e.g., 'plasma')\n",
    "wordcloud = WordCloud(width=1600, height=800, background_color='white', colormap='Set1').generate(job_titles_text)\n",
    "\n",
    "# Display the word cloud with a figure that automatically fits most screens\n",
    "plt.figure(figsize=(16, 8), facecolor='w')\n",
    "plt.imshow(wordcloud, interpolation='bilinear')\n",
    "plt.title('Job Title Word Cloud', fontsize=18)\n",
    "plt.axis('off')\n",
    "plt.tight_layout(pad=0)\n",
    "plt.show()"
   ]
  },
  {
   "cell_type": "markdown",
   "metadata": {},
   "source": [
    "**Key Insights**:\n",
    "\n",
    "- Project Manager, Sales Associate, and Software Engineer are the **most frequently listed job titles**.\n",
    "\n",
    "- Both **Full Time and Part Time** roles are **highly prevalent**, reflecting diversity in work arrangements.\n",
    "\n",
    "- Strong hiring focus on sales, customer service, and management positions.\n",
    "\n",
    "- Titles indicate **opportunities across all seniority levels**, from Entry Level to Senior Management.\n",
    "\n",
    "- **Multiple industries**—especially retail, technology, healthcare, and finance—are represented in top roles."
   ]
  },
  {
   "cell_type": "code",
   "execution_count": null,
   "metadata": {
    "_cell_guid": "c139d08f-6b81-41c3-944d-60824763c4c3",
    "_uuid": "cb8e1b58-bc82-4ff3-b1a7-5a337d3bf601",
    "execution": {
     "iopub.execute_input": "2025-09-17T07:26:30.491697Z",
     "iopub.status.busy": "2025-09-17T07:26:30.491189Z",
     "iopub.status.idle": "2025-09-17T07:26:34.874477Z",
     "shell.execute_reply": "2025-09-17T07:26:34.873495Z",
     "shell.execute_reply.started": "2025-09-17T07:26:30.491668Z"
    },
    "trusted": true
   },
   "outputs": [],
   "source": [
    "# Generate word cloud of the most common skills required for the job postings\n",
    "\n",
    "from wordcloud import WordCloud\n",
    "import matplotlib.pyplot as plt\n",
    "\n",
    "job_titles_text = ' '.join(df['skill_name'].astype(str))\n",
    "\n",
    "wordcloud = WordCloud(width=1600, height=800, background_color='white', colormap='tab10').generate(job_titles_text)\n",
    "\n",
    "# Display the word cloud with a figure that automatically fits most screens\n",
    "plt.figure(figsize=(16, 8), facecolor='w')\n",
    "plt.imshow(wordcloud, interpolation='bilinear')\n",
    "plt.title('Top skill requirements for the job postings', fontsize=18)\n",
    "plt.axis('off')\n",
    "plt.tight_layout(pad=0)\n",
    "plt.show()"
   ]
  },
  {
   "cell_type": "markdown",
   "metadata": {},
   "source": [
    "**Key Insights:**\n",
    "\n",
    "- Business Development, Health Care, Customer Service, Information Technology, and Management are among the **most in-demand skills**, as evidenced by their large, prominent text.\n",
    "\n",
    "- Other top skills include Engineering, Project Management, Sales, Accounting, Auditing, Finance, and Manufacturing, reflecting **broad demand across both technical and business-oriented roles**.\n",
    "\n",
    "- Many postings seek strong backgrounds in technology, management, and customer-facing functions, highlighting their importance for job seekers.\n",
    "\n",
    "- The **presence of diverse skills** like Supply Chain, Human Resources, and Research Analyst suggests a wide variety of job types and sectors are actively hiring.\n",
    "\n",
    "- Larger recurring words across the images indicate consistently high-volume demand, particularly for business, health care, and technology-related expertise."
   ]
  },
  {
   "cell_type": "code",
   "execution_count": null,
   "metadata": {
    "_cell_guid": "d8d16fc8-9393-4aa6-a675-ad45a752f714",
    "_uuid": "18d19450-3517-4f39-9abf-f37020817c81",
    "execution": {
     "iopub.execute_input": "2025-09-17T07:26:34.875726Z",
     "iopub.status.busy": "2025-09-17T07:26:34.875373Z",
     "iopub.status.idle": "2025-09-17T07:26:40.047152Z",
     "shell.execute_reply": "2025-09-17T07:26:40.045617Z",
     "shell.execute_reply.started": "2025-09-17T07:26:34.875697Z"
    },
    "trusted": true
   },
   "outputs": [],
   "source": [
    "# Word Cloud describing the different industries with most job openings\n",
    "\n",
    "from wordcloud import WordCloud\n",
    "import matplotlib.pyplot as plt\n",
    "\n",
    "job_titles_text = ' '.join(df['industry_name'].astype(str))\n",
    "wordcloud = WordCloud(width=1600, height=800, background_color='white', colormap='magma').generate(job_titles_text)\n",
    "\n",
    "# Display the word cloud with a figure that automatically fits most screens\n",
    "plt.figure(figsize=(16, 8), facecolor='w')\n",
    "plt.imshow(wordcloud, interpolation='bilinear')\n",
    "plt.title('Industry with most job openings', fontsize=18)\n",
    "plt.axis('off')\n",
    "plt.tight_layout(pad=0)\n",
    "plt.show()"
   ]
  },
  {
   "cell_type": "markdown",
   "metadata": {},
   "source": [
    "**Key Insights:**\n",
    "\n",
    "- Health Care, Financial Services, Retail, Consulting, and Hospitals are consistently the **largest and most prominent industries**, indicating they have the highest number of job openings across all images.\n",
    "\n",
    "- **Other visible major sectors** include Software Development, Manufacturing (including subcategories like Industrial, Pharmaceutical, and Equipment Manufacturing), Recruiting, Staffing, and Advertising Services.\n",
    "\n",
    "- Real Estate, Logistics, Technology, Engineering, and Information Services also stand out but are less dominant compared to the top five.\n",
    "\n",
    "- The diversity and relative word size indicate a **wide spectrum of opportunities**, but with a clear tilt toward health, finance, retail, and consultancy domains.\n",
    "\n",
    "- Frequent recurrence of **Healthcare and Financial keywords** across different images highlights the **critical workforce demand in these sectors**."
   ]
  },
  {
   "cell_type": "code",
   "execution_count": null,
   "metadata": {
    "execution": {
     "iopub.execute_input": "2025-09-17T07:26:40.048933Z",
     "iopub.status.busy": "2025-09-17T07:26:40.048457Z",
     "iopub.status.idle": "2025-09-17T07:26:40.227907Z",
     "shell.execute_reply": "2025-09-17T07:26:40.227021Z",
     "shell.execute_reply.started": "2025-09-17T07:26:40.048898Z"
    },
    "trusted": true
   },
   "outputs": [],
   "source": [
    "# To check the distribution of key categorical features\n",
    "\n",
    "import plotly.graph_objects as go\n",
    "from plotly.subplots import make_subplots\n",
    "\n",
    "# Example: Assume these variables are precomputed from your DataFrame\n",
    "exp_levels = df['formatted_experience_level'].value_counts().sort_index()\n",
    "app_types = df['application_type'].value_counts().sort_index()\n",
    "work_types = df['formatted_work_type'].value_counts().sort_index()\n",
    "\n",
    "# Create subplot figure with 3 columns\n",
    "fig = make_subplots(rows=1, cols=3,\n",
    "                    subplot_titles=('<b>Experience Level</b>',\n",
    "                                    '<b>Application Type</b>',\n",
    "                                    '<b>Work Type</b>'))\n",
    "\n",
    "# Add bar charts to subplots\n",
    "fig.add_trace(go.Bar(x=exp_levels.index, y=exp_levels.values, marker_color='blue',name='Jobs'), row=1, col=1)\n",
    "fig.add_trace(go.Bar(x=app_types.index, y=app_types.values, marker_color='green',name='Jobs'), row=1, col=2)\n",
    "fig.add_trace(go.Bar(x=work_types.index, y=work_types.values, marker_color='orange',name='Jobs'), row=1, col=3)\n",
    "\n",
    "# Update layout and axis labels\n",
    "fig.update_layout(height=500, width=1100, showlegend=False)\n",
    "\n",
    "for i in range(1, 4):\n",
    "    fig.update_xaxes(tickangle=45, tickfont=dict(size=12), row=1, col=i)\n",
    "    fig.update_yaxes(title_text='Number of Jobs', row=1, col=1)\n",
    "\n",
    "fig.show()\n"
   ]
  },
  {
   "cell_type": "markdown",
   "metadata": {
    "_cell_guid": "80a6b036-1ad1-4599-9f26-112d1337c7d2",
    "_uuid": "beda7549-1d0f-4bed-82fe-b811cfacacf0",
    "collapsed": false,
    "jupyter": {
     "outputs_hidden": false
    },
    "trusted": true
   },
   "source": [
    "**Key Insights :**\n",
    "\n",
    "- **Experience Level Distribution**\n",
    "    - The majority of job postings target Mid-Senior level and Entry level candidates, making up the largest share of opportunities.\n",
    "    - There are significantly fewer openings for Associate, Director, Internship, and very few for Executive roles, indicating that advanced roles are much less common.\n",
    "\n",
    "- **Application Type Distribution**\n",
    "    - OffsiteApply is the most prominent application method, followed by ComplexOnsiteApply.\n",
    "    - SimpleOnsiteApply and UnknownApply have very low counts, suggesting that job postings tend to require more complex or external application processes rather than streamlined experiences.\n",
    "\n",
    "- **Work Type Distribution**\n",
    "    - The overwhelming majority of jobs are Full-time, highlighting strong demand for permanent positions on LinkedIn.\n",
    "    - Internship, Contract, and Part-time positions are available but in significantly lower quantities. Roles classified as Temporary, Volunteer, or Other are rare.\n",
    "\n",
    "- **Actionable Insights**\n",
    "    - Recommendation systems should focus heavily on matching users to full-time and mid-senior/entry-level roles, as these represent the largest share of roles available.\n",
    "    - For those seeking streamlined job application experiences, platform improvements around SimpleOnsiteApply may impact only a small fraction of postings.\n",
    "    - Candidates for advanced positions (Director, Executive) may require targeted search strategies or personalized guidance, given their scarcity."
   ]
  },
  {
   "cell_type": "markdown",
   "metadata": {
    "_cell_guid": "3da287e6-b466-4af9-8763-3ea945b60e50",
    "_uuid": "315befda-cf25-4c7b-9e82-c415e91d391a",
    "collapsed": false,
    "jupyter": {
     "outputs_hidden": false
    },
    "trusted": true
   },
   "source": [
    "#### Bi-Variate Analysis"
   ]
  },
  {
   "cell_type": "code",
   "execution_count": null,
   "metadata": {
    "execution": {
     "iopub.execute_input": "2025-09-17T07:26:40.229462Z",
     "iopub.status.busy": "2025-09-17T07:26:40.229080Z",
     "iopub.status.idle": "2025-09-17T07:26:43.832625Z",
     "shell.execute_reply": "2025-09-17T07:26:43.831379Z",
     "shell.execute_reply.started": "2025-09-17T07:26:40.229422Z"
    },
    "trusted": true
   },
   "outputs": [],
   "source": [
    "# Visualize the distribution between two categorical variables Work Type and Experience level\n",
    "\n",
    "import plotly.express as px\n",
    "\n",
    "fig = px.histogram(df,\n",
    "                   x='formatted_work_type',\n",
    "                   color='formatted_experience_level',\n",
    "                   # Order the x-axis categories by frequency for better readability.\n",
    "                   category_orders={\n",
    "                       'formatted_work_type': df['formatted_work_type'].value_counts().index.tolist()\n",
    "                   },\n",
    "                   barmode='group',\n",
    "                   # Assign human-readable labels for the final visualization.\n",
    "                   labels={'formatted_work_type': 'Work Type', 'count': 'Number of Jobs', 'formatted_experience_level': 'Experience Level'},\n",
    "                   title='Distribution of Jobs by Work Type and Experience Level',\n",
    "                   color_discrete_sequence=px.colors.qualitative.Pastel)\n",
    "\n",
    "# Update the layout for a more polished and informative look.\n",
    "fig.update_layout(\n",
    "    title=dict(\n",
    "        text='<b>Distribution of Jobs by Work Type and Experience Level (Log Scale)</b>',\n",
    "        x=0.5,  # center title horizontally\n",
    "        xanchor='center',\n",
    "    ),\n",
    "    yaxis_title='<b>Number of Jobs</b>',  # bold y-axis label\n",
    "    showlegend=True\n",
    ")\n",
    "\n",
    "fig.update_yaxes(type='log')  # Set y-axis to log scale\n",
    "\n",
    "fig.show()\n"
   ]
  },
  {
   "cell_type": "markdown",
   "metadata": {},
   "source": [
    "**Key Insights:**\n",
    "\n",
    "- **Full-time roles** overwhelmingly **dominate across all experience levels**, with the largest volumes for mid-senior, entry, and associate positions.\n",
    "\n",
    "- Contract, part-time, and temporary jobs are most frequent at mid-senior and entry levels, but are also available across the full range of experience.\n",
    "\n",
    "- **Internships** show a spike entirely **at the internship experience level**, as expected, while other minor work types (volunteer, other) are more evenly spread.\n",
    "\n",
    "- **Director and executive** roles have noticeably **fewer postings across all work types**, reflecting typical organizational structures.\n",
    "\n",
    "- The log scale reveals strong segmentation: while full-time is the backbone, alternatives like contract and part-time remain significant for non-senior and non-executive professionals"
   ]
  },
  {
   "cell_type": "code",
   "execution_count": null,
   "metadata": {
    "execution": {
     "iopub.execute_input": "2025-09-17T07:26:43.834653Z",
     "iopub.status.busy": "2025-09-17T07:26:43.834131Z",
     "iopub.status.idle": "2025-09-17T07:26:44.379105Z",
     "shell.execute_reply": "2025-09-17T07:26:44.377513Z",
     "shell.execute_reply.started": "2025-09-17T07:26:43.834622Z"
    },
    "trusted": true
   },
   "outputs": [],
   "source": [
    "import plotly.express as px\n",
    "\n",
    "fig = px.histogram(df,\n",
    "                   x='formatted_experience_level',         # moved here from color\n",
    "                   color='formatted_work_type',             # moved here from x\n",
    "                   category_orders={\n",
    "                       'formatted_experience_level': df['formatted_experience_level'].value_counts().index.tolist()\n",
    "                   },\n",
    "                   barmode='group',\n",
    "                   labels={'formatted_experience_level': 'Experience Level', 'count': 'Number of Jobs', 'formatted_work_type': 'Work Type'},\n",
    "                   title='Distribution of Jobs by Experience Level and Work Type',\n",
    "                   color_discrete_sequence=px.colors.qualitative.G10)\n",
    "\n",
    "fig.update_layout(\n",
    "    title=dict(\n",
    "        text='<b>Distribution of Jobs by Experience Level and Work Type (Log Scale)</b>',\n",
    "        x=0.5,\n",
    "        xanchor='center',\n",
    "    ),\n",
    "    yaxis_title='<b>Number of Jobs</b>',\n",
    "    showlegend=True\n",
    ")\n",
    "\n",
    "fig.update_yaxes(type='log')  # if log scale is still required\n",
    "\n",
    "fig.show()\n"
   ]
  },
  {
   "cell_type": "markdown",
   "metadata": {},
   "source": [
    "**Key Insights:**\n",
    "\n",
    "- **Full-time positions dominate every experience level**, with particularly high counts in mid-senior, entry, and associate roles.\n",
    "\n",
    "- **Internships and contract roles** are especially **abundant at entry and mid-senior levels**, though available at all levels including executive and director.\n",
    "\n",
    "- Other work types (part-time, temporary, volunteer, other) consistently show lower volumes across all experience levels, but remain present and relevant, especially at mid-senior and entry levels.\n",
    "\n",
    "- **Executive and director** positions show an **overall drop in job counts across all work types** compared to more junior roles, reflecting typical market structures.\n",
    "\n",
    "- The **log scale** highlights substantial differences in job availability between full-time roles and all other work types throughout the experience spectrum."
   ]
  },
  {
   "cell_type": "markdown",
   "metadata": {
    "_cell_guid": "22752cfa-d97d-4c45-8369-9bdcb5ebdf86",
    "_uuid": "7f12addd-681c-4a53-86ed-ad717e2f18fe",
    "collapsed": false,
    "jupyter": {
     "outputs_hidden": false
    },
    "trusted": true
   },
   "source": [
    "### 5. Feature Engineering"
   ]
  },
  {
   "cell_type": "code",
   "execution_count": null,
   "metadata": {
    "_cell_guid": "59e84e17-8f35-4c63-90d8-8cb60c1d72b8",
    "_uuid": "bc6d2931-32d8-4071-9e41-b15af237e27e",
    "execution": {
     "iopub.execute_input": "2025-09-17T07:26:44.380911Z",
     "iopub.status.busy": "2025-09-17T07:26:44.380593Z",
     "iopub.status.idle": "2025-09-17T07:27:20.381780Z",
     "shell.execute_reply": "2025-09-17T07:27:20.380634Z",
     "shell.execute_reply.started": "2025-09-17T07:26:44.380886Z"
    },
    "trusted": true
   },
   "outputs": [],
   "source": [
    "# Transforming and parsing a single variable (location) into multiple, more granular variables (city, state, country) \n",
    "\n",
    "import pandas as pd\n",
    "import re\n",
    "\n",
    "# Dictionary for US state abbreviations and full names\n",
    "STATE_ABBR = {\n",
    "    'AL': 'Alabama', 'AK': 'Alaska', 'AZ': 'Arizona', 'AR': 'Arkansas', 'CA': 'California',\n",
    "    'CO': 'Colorado', 'CT': 'Connecticut', 'DE': 'Delaware', 'FL': 'Florida', 'GA': 'Georgia',\n",
    "    'HI': 'Hawaii', 'ID': 'Idaho', 'IL': 'Illinois', 'IN': 'Indiana', 'IA': 'Iowa', 'KS': 'Kansas',\n",
    "    'KY': 'Kentucky', 'LA': 'Louisiana', 'ME': 'Maine', 'MD': 'Maryland', 'MA': 'Massachusetts',\n",
    "    'MI': 'Michigan', 'MN': 'Minnesota', 'MS': 'Mississippi', 'MO': 'Missouri', 'MT': 'Montana',\n",
    "    'NE': 'Nebraska', 'NV': 'Nevada', 'NH': 'New Hampshire', 'NJ': 'New Jersey', 'NM': 'New Mexico',\n",
    "    'NY': 'New York', 'NC': 'North Carolina', 'ND': 'North Dakota', 'OH': 'Ohio', 'OK': 'Oklahoma',\n",
    "    'OR': 'Oregon', 'PA': 'Pennsylvania', 'RI': 'Rhode Island', 'SC': 'South Carolina',\n",
    "    'SD': 'South Dakota', 'TN': 'Tennessee', 'TX': 'Texas', 'UT': 'Utah', 'VT': 'Vermont',\n",
    "    'VA': 'Virginia', 'WA': 'Washington', 'WV': 'West Virginia', 'WI': 'Wisconsin', 'WY': 'Wyoming'\n",
    "}\n",
    "# Create sets for quick lookups of states (full and abbreviations)\n",
    "STATE_SET = set([v.lower() for v in STATE_ABBR.values()] + [k.lower() for k in STATE_ABBR.keys()])\n",
    "\n",
    "# Known countries to detect in location strings\n",
    "COUNTRIES = {'united states', 'canada', 'argentina', 'brazil'}\n",
    "\n",
    "# Helper to safely strip strings and avoid errors on non-strings\n",
    "def safe_strip(val):\n",
    "    \"\"\"Strip if string, return unchanged if not.\"\"\"\n",
    "    return val.strip() if isinstance(val, str) else val\n",
    "\n",
    "# Main function to parse location into city, state, country\n",
    "def fast_extract(location):\n",
    "    s = str(location).strip()  # Convert to string and strip whitespace\n",
    "    s_lower = s.lower()\n",
    "    country = None\n",
    "    state = None\n",
    "    city = None\n",
    "\n",
    "    # Detect and remove country tokens from string\n",
    "    detected_country = None\n",
    "    for c in COUNTRIES:\n",
    "        if re.search(rf'\\b{re.escape(c)}\\b', s_lower):\n",
    "            detected_country = c.title()\n",
    "            s_lower = re.sub(rf'\\b{re.escape(c)}\\b', '', s_lower)\n",
    "    if detected_country:\n",
    "        country = detected_country\n",
    "\n",
    "    # Detect state abbreviation pattern (e.g., \", CA\")\n",
    "    match = re.search(r',\\s*([A-Z]{2})(?:,|$)', s)\n",
    "    if match and match.group(1) in STATE_ABBR:\n",
    "        # Extract city from start before first comma, if valid\n",
    "        state_candidate = STATE_ABBR[match.group(1)]\n",
    "        city_candidate = safe_strip(s.split(',')[0])\n",
    "        if (\n",
    "            city_candidate and\n",
    "            isinstance(city_candidate, str) and\n",
    "            city_candidate.lower() not in COUNTRIES and\n",
    "            city_candidate.lower() not in STATE_SET\n",
    "        ):\n",
    "            city = city_candidate\n",
    "        state = state_candidate\n",
    "\n",
    "    # If no state abbrev found, detect full state name\n",
    "    if not state:\n",
    "        for st in STATE_ABBR.values():\n",
    "            st_low = st.lower()\n",
    "            if re.search(rf'\\b{re.escape(st_low)}\\b', s_lower):\n",
    "                state_candidate = st\n",
    "                idx = s_lower.find(st_low)\n",
    "                city_candidate = safe_strip(s[:idx].rstrip(','))\n",
    "                if (\n",
    "                    city_candidate and\n",
    "                    isinstance(city_candidate, str) and\n",
    "                    city_candidate.lower() not in COUNTRIES and\n",
    "                    city_candidate.lower() not in STATE_SET\n",
    "                ):\n",
    "                    city = city_candidate\n",
    "                state = state_candidate\n",
    "                break\n",
    "\n",
    "    # Fallback parsing assuming comma separation into city, state, country\n",
    "    if not state or not city:\n",
    "        tokens = [safe_strip(tok) for tok in s.split(',') if isinstance(tok, str)]\n",
    "        if len(tokens) == 3:\n",
    "            cty, stt, ctry = tokens\n",
    "            if cty and cty.lower() not in COUNTRIES and cty.lower() not in STATE_SET:\n",
    "                city = cty\n",
    "            if stt and stt.lower() not in COUNTRIES:\n",
    "                state = STATE_ABBR[stt] if stt in STATE_ABBR else stt\n",
    "            if ctry and ctry.lower() in COUNTRIES:\n",
    "                country = ctry.title()\n",
    "        elif len(tokens) == 2:\n",
    "            cty, stt = tokens\n",
    "            if cty and cty.lower() not in COUNTRIES and cty.lower() not in STATE_SET:\n",
    "                city = cty\n",
    "            if stt and stt.lower() not in COUNTRIES:\n",
    "                state = STATE_ABBR[stt] if stt in STATE_ABBR else stt\n",
    "\n",
    "    # Final fallback: If only country provided\n",
    "    s_lower_check = safe_strip(s_lower)\n",
    "    if not city and not state and isinstance(s_lower_check, str) and s_lower_check in COUNTRIES:\n",
    "        country = s.title()\n",
    "\n",
    "    return pd.Series([city, state, country])\n",
    "\n",
    "# Apply parsing function to 'location' column in DataFrame and create new columns\n",
    "df[['city', 'state', 'country']] = df['location'].apply(fast_extract)\n",
    "\n",
    "# Print sample output showing original and parsed data\n",
    "print(df[['location', 'city', 'state', 'country']].head(15))\n"
   ]
  },
  {
   "cell_type": "code",
   "execution_count": null,
   "metadata": {
    "_cell_guid": "d5716b3a-b382-4267-bb79-85d4ef8f8c92",
    "_uuid": "e6c39ccb-6f39-47f6-aa42-83e7f837b51f",
    "execution": {
     "iopub.execute_input": "2025-09-17T07:27:20.383865Z",
     "iopub.status.busy": "2025-09-17T07:27:20.382941Z",
     "iopub.status.idle": "2025-09-17T07:27:20.400830Z",
     "shell.execute_reply": "2025-09-17T07:27:20.399669Z",
     "shell.execute_reply.started": "2025-09-17T07:27:20.383825Z"
    },
    "trusted": true
   },
   "outputs": [],
   "source": [
    " # Check for Value count\n",
    " df['country'].value_counts()"
   ]
  },
  {
   "cell_type": "code",
   "execution_count": null,
   "metadata": {
    "_cell_guid": "f80961e2-66e3-4d64-9727-ac93e4cd9e55",
    "_uuid": "815841d0-8e52-4d79-99e0-8b92fb02ed75",
    "execution": {
     "iopub.execute_input": "2025-09-17T07:27:20.402732Z",
     "iopub.status.busy": "2025-09-17T07:27:20.402051Z",
     "iopub.status.idle": "2025-09-17T07:27:20.453149Z",
     "shell.execute_reply": "2025-09-17T07:27:20.452066Z",
     "shell.execute_reply.started": "2025-09-17T07:27:20.402702Z"
    },
    "trusted": true
   },
   "outputs": [],
   "source": [
    " #df['country'].isnull().sum()"
   ]
  },
  {
   "cell_type": "code",
   "execution_count": null,
   "metadata": {
    "_cell_guid": "05b3f8b8-5d72-4596-9163-d6ee694c24dc",
    "_uuid": "163d6e6f-9a38-4b9f-92da-f708b4daa561",
    "execution": {
     "iopub.execute_input": "2025-09-17T07:27:20.454790Z",
     "iopub.status.busy": "2025-09-17T07:27:20.454454Z",
     "iopub.status.idle": "2025-09-17T07:27:20.491454Z",
     "shell.execute_reply": "2025-09-17T07:27:20.490239Z",
     "shell.execute_reply.started": "2025-09-17T07:27:20.454760Z"
    },
    "trusted": true
   },
   "outputs": [],
   "source": [
    "  # Check for Value count\n",
    " df['state'].value_counts()"
   ]
  },
  {
   "cell_type": "code",
   "execution_count": null,
   "metadata": {
    "_cell_guid": "61b7f4f8-4d5a-4fab-a3d6-1b8a83b93406",
    "_uuid": "ff0cea2c-1a77-4154-b10a-f84c90937c1f",
    "execution": {
     "iopub.execute_input": "2025-09-17T07:27:20.492972Z",
     "iopub.status.busy": "2025-09-17T07:27:20.492443Z",
     "iopub.status.idle": "2025-09-17T07:27:20.509625Z",
     "shell.execute_reply": "2025-09-17T07:27:20.508562Z",
     "shell.execute_reply.started": "2025-09-17T07:27:20.492942Z"
    },
    "trusted": true
   },
   "outputs": [],
   "source": [
    " #df['state'].isnull().sum()"
   ]
  },
  {
   "cell_type": "code",
   "execution_count": null,
   "metadata": {
    "_cell_guid": "93fb4439-b971-4214-b6a9-d25f3a5421ec",
    "_uuid": "31b63ec7-8bee-45dd-aa73-1f1f0894cee3",
    "execution": {
     "iopub.execute_input": "2025-09-17T07:27:20.510930Z",
     "iopub.status.busy": "2025-09-17T07:27:20.510592Z",
     "iopub.status.idle": "2025-09-17T07:27:20.584420Z",
     "shell.execute_reply": "2025-09-17T07:27:20.583104Z",
     "shell.execute_reply.started": "2025-09-17T07:27:20.510908Z"
    },
    "trusted": true
   },
   "outputs": [],
   "source": [
    "  # Check for Value count\n",
    " df['city'].value_counts()"
   ]
  },
  {
   "cell_type": "code",
   "execution_count": null,
   "metadata": {
    "_cell_guid": "d690290e-33f8-47f3-a71d-9ba45dd2d4f8",
    "_uuid": "fdc8c058-2fd4-4da7-852b-651579b6838b",
    "execution": {
     "iopub.execute_input": "2025-09-17T07:27:20.586256Z",
     "iopub.status.busy": "2025-09-17T07:27:20.585955Z",
     "iopub.status.idle": "2025-09-17T07:27:20.599415Z",
     "shell.execute_reply": "2025-09-17T07:27:20.598228Z",
     "shell.execute_reply.started": "2025-09-17T07:27:20.586233Z"
    },
    "trusted": true
   },
   "outputs": [],
   "source": [
    " #df['city'].isnull().sum()"
   ]
  },
  {
   "cell_type": "code",
   "execution_count": null,
   "metadata": {
    "_cell_guid": "f47957bc-2a1b-4cb6-b156-78be65fa61b9",
    "_uuid": "4fe320f9-f613-4b54-ac52-48de8d42da06",
    "execution": {
     "iopub.execute_input": "2025-09-17T07:27:20.600793Z",
     "iopub.status.busy": "2025-09-17T07:27:20.600463Z",
     "iopub.status.idle": "2025-09-17T07:27:20.620255Z",
     "shell.execute_reply": "2025-09-17T07:27:20.619178Z",
     "shell.execute_reply.started": "2025-09-17T07:27:20.600749Z"
    },
    "trusted": true
   },
   "outputs": [],
   "source": [
    " #df[['location', 'city', 'state', 'country']].head(50)"
   ]
  },
  {
   "cell_type": "code",
   "execution_count": null,
   "metadata": {
    "_cell_guid": "ecd85c73-737f-486c-9e94-c3e8fd8b97ce",
    "_uuid": "0399c56a-67c5-43cc-a206-e8a919acbca6",
    "execution": {
     "iopub.execute_input": "2025-09-17T07:27:20.622008Z",
     "iopub.status.busy": "2025-09-17T07:27:20.621634Z",
     "iopub.status.idle": "2025-09-17T07:27:20.692578Z",
     "shell.execute_reply": "2025-09-17T07:27:20.691385Z",
     "shell.execute_reply.started": "2025-09-17T07:27:20.621945Z"
    },
    "trusted": true
   },
   "outputs": [],
   "source": [
    "# To Check for NULL states where city is NOT NULL\n",
    "\n",
    "# Filter for rows where state is NaN/null and city is present\n",
    "null_state_nonnull_city = df[df['state'].isnull() & df['city'].notnull()]\n",
    "\n",
    "# Show a sample of these rows\n",
    "null_state_nonnull_city[['location', 'city', 'state', 'country']].head(15)"
   ]
  },
  {
   "cell_type": "code",
   "execution_count": null,
   "metadata": {
    "_cell_guid": "77a38bf4-bc88-4d06-a08d-78715ff8a5d1",
    "_uuid": "61d4fa68-d8c1-4664-b155-00222b36b392",
    "execution": {
     "iopub.execute_input": "2025-09-17T07:27:20.694000Z",
     "iopub.status.busy": "2025-09-17T07:27:20.693673Z",
     "iopub.status.idle": "2025-09-17T07:27:20.788809Z",
     "shell.execute_reply": "2025-09-17T07:27:20.787791Z",
     "shell.execute_reply.started": "2025-09-17T07:27:20.693936Z"
    },
    "trusted": true
   },
   "outputs": [],
   "source": [
    "# Check for NULL values in each location column\n",
    "\n",
    "df[['city', 'state', 'country']].isnull().sum()"
   ]
  },
  {
   "cell_type": "code",
   "execution_count": null,
   "metadata": {
    "_cell_guid": "ee00ff01-a285-470b-97ca-c1e3e20be075",
    "_uuid": "6f0c4274-baeb-4526-9d26-8cc61994f28f",
    "execution": {
     "iopub.execute_input": "2025-09-17T07:27:20.790111Z",
     "iopub.status.busy": "2025-09-17T07:27:20.789853Z",
     "iopub.status.idle": "2025-09-17T07:27:20.865406Z",
     "shell.execute_reply": "2025-09-17T07:27:20.864464Z",
     "shell.execute_reply.started": "2025-09-17T07:27:20.790092Z"
    },
    "trusted": true
   },
   "outputs": [],
   "source": [
    "# Add Country for US States (Vectorized)\n",
    "\n",
    "US_STATES = set(STATE_ABBR.values())\n",
    "\n",
    "# Only fill for rows where country is null and state is a US state\n",
    "df.loc[\n",
    "    df['country'].isnull() & df['state'].notnull() & df['state'].isin(US_STATES),\n",
    "    'country'\n",
    "] = 'United States'\n",
    "\n",
    "# Display sample output for verification\n",
    "print(df[['location', 'city', 'state', 'country']].head(15))"
   ]
  },
  {
   "cell_type": "code",
   "execution_count": null,
   "metadata": {
    "_cell_guid": "032074e7-a08f-456e-9f76-f13dcb890ce3",
    "_uuid": "f2fdb51c-7887-4a29-832e-f8c60726df01",
    "execution": {
     "iopub.execute_input": "2025-09-17T07:27:20.866801Z",
     "iopub.status.busy": "2025-09-17T07:27:20.866424Z",
     "iopub.status.idle": "2025-09-17T07:27:20.872188Z",
     "shell.execute_reply": "2025-09-17T07:27:20.871194Z",
     "shell.execute_reply.started": "2025-09-17T07:27:20.866773Z"
    },
    "trusted": true
   },
   "outputs": [],
   "source": [
    "# Check for NULL values in each location column\n",
    "\n",
    "# df[['city', 'state', 'country']].isnull().sum()"
   ]
  },
  {
   "cell_type": "code",
   "execution_count": null,
   "metadata": {
    "_cell_guid": "b76545a8-6c14-4de0-8912-a23bf0026946",
    "_uuid": "30242720-e5e6-4b45-95f4-b0afbe4965fe",
    "execution": {
     "iopub.execute_input": "2025-09-17T07:27:20.873419Z",
     "iopub.status.busy": "2025-09-17T07:27:20.873127Z",
     "iopub.status.idle": "2025-09-17T07:27:20.955881Z",
     "shell.execute_reply": "2025-09-17T07:27:20.954925Z",
     "shell.execute_reply.started": "2025-09-17T07:27:20.873389Z"
    },
    "trusted": true
   },
   "outputs": [],
   "source": [
    "# To Check for states and city both are NULL\n",
    "\n",
    "# Filter for rows where state is NaN/null and city is present\n",
    "null_state_null_city = df[df['state'].isnull() & df['city'].isnull()]\n",
    "\n",
    "# Show a sample of these rows\n",
    "# null_state_null_city[['location', 'city', 'state', 'country']].head(15)"
   ]
  },
  {
   "cell_type": "code",
   "execution_count": null,
   "metadata": {
    "_cell_guid": "6c8c7d44-908e-4eb9-83fe-77b2665a5da6",
    "_uuid": "c31b150a-deac-410a-8f72-4522e69225b3",
    "execution": {
     "iopub.execute_input": "2025-09-17T07:27:20.957416Z",
     "iopub.status.busy": "2025-09-17T07:27:20.957128Z",
     "iopub.status.idle": "2025-09-17T07:27:20.976240Z",
     "shell.execute_reply": "2025-09-17T07:27:20.975369Z",
     "shell.execute_reply.started": "2025-09-17T07:27:20.957395Z"
    },
    "trusted": true
   },
   "outputs": [],
   "source": [
    "# Check the Total count of NULL where city and state are NULL\n",
    "null_state_null_city[['location', 'city', 'state', 'country']].isnull().sum()"
   ]
  },
  {
   "cell_type": "code",
   "execution_count": null,
   "metadata": {
    "_cell_guid": "a1f74611-7283-49b1-9438-f04772415f2c",
    "_uuid": "31b0b5b1-3f5e-4bd5-b2ca-055b445def00",
    "execution": {
     "iopub.execute_input": "2025-09-17T07:27:20.978016Z",
     "iopub.status.busy": "2025-09-17T07:27:20.977639Z",
     "iopub.status.idle": "2025-09-17T07:27:21.101221Z",
     "shell.execute_reply": "2025-09-17T07:27:21.100235Z",
     "shell.execute_reply.started": "2025-09-17T07:27:20.977988Z"
    },
    "trusted": true
   },
   "outputs": [],
   "source": [
    "# Check the Total count where Country, State and City ALL are NULL\n",
    "df[['location', 'city', 'state', 'country']].isnull().sum()"
   ]
  },
  {
   "cell_type": "code",
   "execution_count": null,
   "metadata": {
    "_cell_guid": "946dd112-2f49-4316-b26f-21546fe59b59",
    "_uuid": "363e7025-8ebe-42d7-835c-ce1c3882da77",
    "execution": {
     "iopub.execute_input": "2025-09-17T07:27:21.102738Z",
     "iopub.status.busy": "2025-09-17T07:27:21.102426Z",
     "iopub.status.idle": "2025-09-17T07:27:21.214988Z",
     "shell.execute_reply": "2025-09-17T07:27:21.213948Z",
     "shell.execute_reply.started": "2025-09-17T07:27:21.102717Z"
    },
    "trusted": true
   },
   "outputs": [],
   "source": [
    "# Create a boolean mask where the 'Location' column contains \"Area\"\n",
    "filtered_mask = df['location'].str.contains('Area')\n",
    "\n",
    "# Apply the mask to the DataFrame to get the filtered rows\n",
    "filtered_df = df[filtered_mask]\n",
    "\n",
    "# View all values in the 'Location' column of the filtered DataFrame\n",
    "print(filtered_df['location'].value_counts())"
   ]
  },
  {
   "cell_type": "code",
   "execution_count": null,
   "metadata": {
    "_cell_guid": "7b989bea-c134-4b72-865e-902dc215962f",
    "_uuid": "95b00375-b9c9-45ff-8952-93168d65da66",
    "execution": {
     "iopub.execute_input": "2025-09-17T07:27:21.216362Z",
     "iopub.status.busy": "2025-09-17T07:27:21.216028Z",
     "iopub.status.idle": "2025-09-17T07:27:21.225972Z",
     "shell.execute_reply": "2025-09-17T07:27:21.225091Z",
     "shell.execute_reply.started": "2025-09-17T07:27:21.216334Z"
    },
    "trusted": true
   },
   "outputs": [],
   "source": [
    "filtered_df['location'].value_counts().sum()"
   ]
  },
  {
   "cell_type": "code",
   "execution_count": null,
   "metadata": {
    "_cell_guid": "148106b8-c447-4cd5-9051-71d04d0d5b4e",
    "_uuid": "61b82c4b-27d0-4946-babb-5d294050764f",
    "execution": {
     "iopub.execute_input": "2025-09-17T07:27:21.227583Z",
     "iopub.status.busy": "2025-09-17T07:27:21.227217Z",
     "iopub.status.idle": "2025-09-17T07:27:21.308170Z",
     "shell.execute_reply": "2025-09-17T07:27:21.306976Z",
     "shell.execute_reply.started": "2025-09-17T07:27:21.227549Z"
    },
    "trusted": true
   },
   "outputs": [],
   "source": [
    "# Before filling\n",
    "before_count = ((df['city'].isnull()) & (df['state'].isnull()) & (df['country'].isnull())).sum()\n",
    "print(f\"Number of all-null (city, state, country) rows before filling: {before_count}\")\n",
    "\n",
    "# (run the fill code)"
   ]
  },
  {
   "cell_type": "code",
   "execution_count": null,
   "metadata": {
    "_cell_guid": "9e652131-0bce-429e-9399-10bae86c7135",
    "_uuid": "b14ddf5c-886f-456b-95bc-b1d3118d5ee9",
    "execution": {
     "iopub.execute_input": "2025-09-17T07:27:21.309778Z",
     "iopub.status.busy": "2025-09-17T07:27:21.309529Z",
     "iopub.status.idle": "2025-09-17T07:27:23.129180Z",
     "shell.execute_reply": "2025-09-17T07:27:23.128269Z",
     "shell.execute_reply.started": "2025-09-17T07:27:21.309760Z"
    },
    "trusted": true
   },
   "outputs": [],
   "source": [
    "# Mapping Dictionary to translate complex location phrases into structured components\n",
    "\n",
    "# Location phrase mapped to city, state, country\n",
    "location_full_map = {\n",
    "    'New York City Metropolitan Area':            ('New York',     'New York',         'United States'),\n",
    "    'San Francisco Bay Area':                     ('San Francisco','California',       'United States'),\n",
    "    'Washington DC-Baltimore Area':               ('Washington',   'District of Columbia', 'United States'),\n",
    "    'Los Angeles Metropolitan Area':              ('Los Angeles',  'California',       'United States'),\n",
    "    'Greater Chicago Area':                       ('Chicago',      'Illinois',         'United States'),\n",
    "    'Atlanta Metropolitan Area':                  ('Atlanta',      'Georgia',          'United States'),\n",
    "    'Austin, Texas Metropolitan Area':            ('Austin',       'Texas',            'United States'),\n",
    "    'San Antonio, Texas Metropolitan Area':       ('San Antonio',  'Texas',            'United States'),\n",
    "    'Miami-Fort Lauderdale Area':                 ('Miami',        'Florida',          'United States'),\n",
    "    'Denver Metropolitan Area':                   ('Denver',       'Colorado',         'United States'),\n",
    "    'Greater Phoenix Area':                       ('Phoenix',      'Arizona',          'United States'),\n",
    "    'Raleigh-Durham-Chapel Hill Area':            ('Raleigh',      'North Carolina',   'United States'),\n",
    "    'Nashville Metropolitan Area':                ('Nashville',    'Tennessee',        'United States'),\n",
    "    'Columbus, Ohio Metropolitan Area':           ('Columbus',     'Ohio',             'United States'),\n",
    "    'Greater Minneapolis-St. Paul Area':          ('Minneapolis',  'Minnesota',        'United States'),\n",
    "    'Detroit Metropolitan Area':                  ('Detroit',      'Michigan',         'United States'),\n",
    "    'Portland, Oregon Metropolitan Area':         ('Portland',     'Oregon',           'United States'),\n",
    "    'San Diego Metropolitan Area':                ('San Diego',    'California',       'United States'),\n",
    "    'Omaha Metropolitan Area':                    ('Omaha',        'Nebraska',         'United States'),\n",
    "    'Greater Seattle Area':                       ('Seattle',      'Washington',       'United States'),\n",
    "    'Salt Lake City Metropolitan Area':           ('Salt Lake City','Utah',            'United States'),\n",
    "}\n",
    "\n",
    "def fill_from_location(loc):\n",
    "    entry = location_full_map.get(str(loc).strip())\n",
    "    if entry is not None:\n",
    "        return pd.Series(entry, index=['city', 'state', 'country'])\n",
    "    else:\n",
    "        # Keep as (None, None, None) if not found\n",
    "        return pd.Series([None, None, None], index=['city', 'state', 'country'])\n",
    "\n",
    "# Mask for rows where all three are missing\n",
    "mask_all_null = (\n",
    "    df['city'].isnull() &\n",
    "    df['state'].isnull() &\n",
    "    df['country'].isnull()\n",
    ")\n",
    "\n",
    "# Only update those rows\n",
    "df.loc[mask_all_null, ['city', 'state', 'country']] = (\n",
    "    df.loc[mask_all_null, 'location'].apply(fill_from_location)\n",
    ")\n",
    "\n",
    "# Display a few examples for verification\n",
    "#print(df[mask_all_null][['location', 'city', 'state', 'country']].head(20))\n",
    "df[mask_all_null][['location', 'city', 'state', 'country']].head(20)"
   ]
  },
  {
   "cell_type": "code",
   "execution_count": null,
   "metadata": {
    "_cell_guid": "8f6ac44c-a536-4893-80b6-1a3ea7c07b5e",
    "_uuid": "cfc2d71c-872c-4644-a000-9d67db46f94c",
    "execution": {
     "iopub.execute_input": "2025-09-17T07:27:23.130312Z",
     "iopub.status.busy": "2025-09-17T07:27:23.130057Z",
     "iopub.status.idle": "2025-09-17T07:27:23.199765Z",
     "shell.execute_reply": "2025-09-17T07:27:23.198676Z",
     "shell.execute_reply.started": "2025-09-17T07:27:23.130273Z"
    },
    "trusted": true
   },
   "outputs": [],
   "source": [
    "# After filling\n",
    "after_count = ((df['city'].isnull()) & (df['state'].isnull()) & (df['country'].isnull())).sum()\n",
    "print(f\"Number of all-null (city, state, country) rows after filling: {after_count}\")"
   ]
  },
  {
   "cell_type": "code",
   "execution_count": null,
   "metadata": {
    "_cell_guid": "6d798c63-42ae-400b-aade-71d522373930",
    "_uuid": "382e8cfb-8f12-4a60-9a0f-77b1dac4c590",
    "execution": {
     "iopub.execute_input": "2025-09-17T07:27:23.201227Z",
     "iopub.status.busy": "2025-09-17T07:27:23.200723Z",
     "iopub.status.idle": "2025-09-17T07:27:23.206826Z",
     "shell.execute_reply": "2025-09-17T07:27:23.205907Z",
     "shell.execute_reply.started": "2025-09-17T07:27:23.201200Z"
    },
    "trusted": true
   },
   "outputs": [],
   "source": [
    "# df[mask_all_null][['location', 'city', 'state', 'country']].isnull().sum()"
   ]
  },
  {
   "cell_type": "code",
   "execution_count": null,
   "metadata": {
    "_cell_guid": "8becd721-2553-464c-a635-56fa865d9e46",
    "_uuid": "5004a4d2-6694-4cc3-8101-66a8b3f60cdc",
    "execution": {
     "iopub.execute_input": "2025-09-17T07:27:23.208268Z",
     "iopub.status.busy": "2025-09-17T07:27:23.208014Z",
     "iopub.status.idle": "2025-09-17T07:27:23.237371Z",
     "shell.execute_reply": "2025-09-17T07:27:23.235965Z",
     "shell.execute_reply.started": "2025-09-17T07:27:23.208249Z"
    },
    "trusted": true
   },
   "outputs": [],
   "source": [
    "# Check the Total count where Country, State and City ALL are NULL\n",
    "# df[['location', 'city', 'state', 'country']].isnull().sum()"
   ]
  },
  {
   "cell_type": "code",
   "execution_count": null,
   "metadata": {
    "_cell_guid": "28734397-1043-4e00-a3e4-38c641e701ba",
    "_uuid": "daada217-afff-4d35-9b98-400e1ef6d6fb",
    "execution": {
     "iopub.execute_input": "2025-09-17T07:27:23.238851Z",
     "iopub.status.busy": "2025-09-17T07:27:23.238546Z",
     "iopub.status.idle": "2025-09-17T07:27:23.302632Z",
     "shell.execute_reply": "2025-09-17T07:27:23.301786Z",
     "shell.execute_reply.started": "2025-09-17T07:27:23.238828Z"
    },
    "trusted": true
   },
   "outputs": [],
   "source": [
    "# Show rows whose location matched and who were updated\n",
    "updated_rows = df['location'].isin(list(location_full_map.keys()))\n",
    "\n",
    "#print(df[updated_rows][['location', 'city', 'state', 'country']].head(20))\n",
    "df[updated_rows][['location', 'city', 'state', 'country']].head(20)"
   ]
  },
  {
   "cell_type": "code",
   "execution_count": null,
   "metadata": {
    "_cell_guid": "f6992733-4dd7-4a09-b6fe-4e116cbbbcbc",
    "_uuid": "dd3e128c-2439-489c-bd94-e61062a69684",
    "execution": {
     "iopub.execute_input": "2025-09-17T07:27:23.303773Z",
     "iopub.status.busy": "2025-09-17T07:27:23.303451Z",
     "iopub.status.idle": "2025-09-17T07:27:23.467486Z",
     "shell.execute_reply": "2025-09-17T07:27:23.466612Z",
     "shell.execute_reply.started": "2025-09-17T07:27:23.303742Z"
    },
    "trusted": true
   },
   "outputs": [],
   "source": [
    "# show all rows without nulls for city/state/country after update:\n",
    "#print(df[(df['city'].notnull()) | (df['state'].notnull()) | (df['country'].notnull())].head(20))\n",
    "df[(df['city'].notnull()) | (df['state'].notnull()) | (df['country'].notnull())].head()"
   ]
  },
  {
   "cell_type": "code",
   "execution_count": null,
   "metadata": {
    "_cell_guid": "75e78c85-e4e7-4bd7-ba62-0cd0c93d297f",
    "_uuid": "160e73b1-7f1b-40b7-8f60-b09d49a2f5e9",
    "execution": {
     "iopub.execute_input": "2025-09-17T07:27:23.476482Z",
     "iopub.status.busy": "2025-09-17T07:27:23.476131Z",
     "iopub.status.idle": "2025-09-17T07:27:23.569613Z",
     "shell.execute_reply": "2025-09-17T07:27:23.568512Z",
     "shell.execute_reply.started": "2025-09-17T07:27:23.476460Z"
    },
    "trusted": true
   },
   "outputs": [],
   "source": [
    "# To fill all rows where city is NULL but state and country are NOT NULL, set the city to \"Unknown\" using a vectorized approach\n",
    "\n",
    "mask = df['city'].isnull() & df['state'].notnull() & df['country'].notnull()\n",
    "df.loc[mask, 'city'] = 'Unknown'\n",
    "\n",
    "# Display a few affected rows for verification\n",
    "print(df[mask][['location', 'city', 'state', 'country']].head(10))"
   ]
  },
  {
   "cell_type": "code",
   "execution_count": null,
   "metadata": {
    "_cell_guid": "5ff779db-14f3-4aea-bb58-be7c37ffd6d8",
    "_uuid": "623805e2-21c0-4e29-99ec-32f2eccd2ed1",
    "execution": {
     "iopub.execute_input": "2025-09-17T07:27:23.571249Z",
     "iopub.status.busy": "2025-09-17T07:27:23.570939Z",
     "iopub.status.idle": "2025-09-17T07:27:23.575732Z",
     "shell.execute_reply": "2025-09-17T07:27:23.574424Z",
     "shell.execute_reply.started": "2025-09-17T07:27:23.571219Z"
    },
    "trusted": true
   },
   "outputs": [],
   "source": [
    "# Check the Total count where Country, State and City ALL are NULL\n",
    "# df[['location', 'city', 'state', 'country']].isnull().sum()"
   ]
  },
  {
   "cell_type": "code",
   "execution_count": null,
   "metadata": {
    "_cell_guid": "706eae6b-4453-4d94-b127-a31f45e05b47",
    "_uuid": "c417f240-db44-4f21-b1c1-f47bece7f34b",
    "execution": {
     "iopub.execute_input": "2025-09-17T07:27:23.576837Z",
     "iopub.status.busy": "2025-09-17T07:27:23.576581Z",
     "iopub.status.idle": "2025-09-17T07:27:23.662421Z",
     "shell.execute_reply": "2025-09-17T07:27:23.661474Z",
     "shell.execute_reply.started": "2025-09-17T07:27:23.576817Z"
    },
    "trusted": true
   },
   "outputs": [],
   "source": [
    "# Check for Final NULL rows where ALL city, state and country is NULL\n",
    "((df['city'].isnull()) & (df['state'].isnull()) & (df['country'].isnull())).sum()"
   ]
  },
  {
   "cell_type": "code",
   "execution_count": null,
   "metadata": {
    "_cell_guid": "e5991d4e-ecdf-4c83-acee-6fd03ffe6089",
    "_uuid": "61712713-a4d1-43ea-ab4c-dbc158a231f2",
    "execution": {
     "iopub.execute_input": "2025-09-17T07:27:23.663991Z",
     "iopub.status.busy": "2025-09-17T07:27:23.663637Z",
     "iopub.status.idle": "2025-09-17T07:27:23.669871Z",
     "shell.execute_reply": "2025-09-17T07:27:23.668749Z",
     "shell.execute_reply.started": "2025-09-17T07:27:23.663959Z"
    },
    "trusted": true
   },
   "outputs": [],
   "source": [
    "# Check the Percentage of data which was missing\n",
    "print(f\"Percentage of all-null location rows: {6035/280000:.2%}\")"
   ]
  },
  {
   "cell_type": "markdown",
   "metadata": {
    "_cell_guid": "170a3805-5b47-43d7-954e-7f0229c01f7e",
    "_uuid": "98ed879b-5d65-42c4-92af-928fcea64608",
    "collapsed": false,
    "jupyter": {
     "outputs_hidden": false
    },
    "trusted": true
   },
   "source": [
    "With only 2% of postings having no location, dropping these will not bias most analyses—and will improve clarity and quality of your results."
   ]
  },
  {
   "cell_type": "code",
   "execution_count": null,
   "metadata": {
    "_cell_guid": "4647658a-888f-487d-a616-b1c900eed63e",
    "_uuid": "6f3cd835-d396-4918-b2b7-076fdc63179d",
    "execution": {
     "iopub.execute_input": "2025-09-17T07:27:23.671460Z",
     "iopub.status.busy": "2025-09-17T07:27:23.671079Z",
     "iopub.status.idle": "2025-09-17T07:27:23.868750Z",
     "shell.execute_reply": "2025-09-17T07:27:23.867684Z",
     "shell.execute_reply.started": "2025-09-17T07:27:23.671430Z"
    },
    "trusted": true
   },
   "outputs": [],
   "source": [
    "# Dropping all these rows with NULL values and updating the original dataframe\n",
    "df = df[~(df['city'].isnull() & df['state'].isnull() & df['country'].isnull())]\n",
    "print(df.shape)"
   ]
  },
  {
   "cell_type": "code",
   "execution_count": null,
   "metadata": {
    "_cell_guid": "085de3e0-6db1-43a4-85b5-25525f0e18c8",
    "_uuid": "f6f4c076-2935-494a-bb53-e1587d8fbaeb",
    "execution": {
     "iopub.execute_input": "2025-09-17T07:27:23.870437Z",
     "iopub.status.busy": "2025-09-17T07:27:23.869939Z",
     "iopub.status.idle": "2025-09-17T07:27:23.944240Z",
     "shell.execute_reply": "2025-09-17T07:27:23.943155Z",
     "shell.execute_reply.started": "2025-09-17T07:27:23.870413Z"
    },
    "trusted": true
   },
   "outputs": [],
   "source": [
    "# Check for Final NULL rows where ALL city, state and country is NULL\n",
    "((df['city'].isnull()) & (df['state'].isnull()) & (df['country'].isnull())).sum()"
   ]
  },
  {
   "cell_type": "code",
   "execution_count": null,
   "metadata": {
    "_cell_guid": "267e22f1-0d97-4c43-906b-722599c473d0",
    "_uuid": "11e35aa3-716a-4d77-ac2c-06a1ee8da24d",
    "execution": {
     "iopub.execute_input": "2025-09-17T07:27:23.947479Z",
     "iopub.status.busy": "2025-09-17T07:27:23.947159Z",
     "iopub.status.idle": "2025-09-17T07:27:23.952157Z",
     "shell.execute_reply": "2025-09-17T07:27:23.950884Z",
     "shell.execute_reply.started": "2025-09-17T07:27:23.947458Z"
    },
    "trusted": true
   },
   "outputs": [],
   "source": [
    "#df['country'].value_counts()\n",
    "#df['state'].value_counts()\n",
    "#df['city'].value_counts()"
   ]
  },
  {
   "cell_type": "markdown",
   "metadata": {
    "_cell_guid": "1b8526e6-942c-4d46-b2bd-53cc5b3b7733",
    "_uuid": "34147172-374e-4cf3-86ad-ea19094c58af",
    "collapsed": false,
    "jupyter": {
     "outputs_hidden": false
    },
    "trusted": true
   },
   "source": [
    "***Geo-spatial Analysis***"
   ]
  },
  {
   "cell_type": "code",
   "execution_count": null,
   "metadata": {
    "execution": {
     "iopub.execute_input": "2025-09-17T07:27:23.954026Z",
     "iopub.status.busy": "2025-09-17T07:27:23.953600Z",
     "iopub.status.idle": "2025-09-17T07:27:24.112354Z",
     "shell.execute_reply": "2025-09-17T07:27:24.111214Z",
     "shell.execute_reply.started": "2025-09-17T07:27:23.953994Z"
    },
    "trusted": true
   },
   "outputs": [],
   "source": [
    "# Visualization showing the top 10 cities, states, and countries by number of job postings in the dataset\n",
    "\n",
    "import plotly.graph_objects as go\n",
    "from plotly.subplots import make_subplots\n",
    "\n",
    "# Extract top 10 counts (replace df with your dataset)\n",
    "city_counts = df['city'].value_counts().nlargest(10)\n",
    "state_counts = df['state'].value_counts().nlargest(10)\n",
    "country_counts = df['country'].value_counts().nlargest(10)\n",
    "\n",
    "# Create subplots\n",
    "fig = make_subplots(\n",
    "    rows=1, cols=3,\n",
    "    subplot_titles=['<b>Top 10 Cities</b>', '<b>Top 10 States</b>', '<b>Top 10 Countries</b>']\n",
    ")\n",
    "\n",
    "# Add bar plots\n",
    "fig.add_trace(go.Bar(x=city_counts.index, y=city_counts.values, marker_color='crimson',name='Job Postings'), row=1, col=1)\n",
    "fig.add_trace(go.Bar(x=state_counts.index, y=state_counts.values, marker_color='coral',name='Job Postings'), row=1, col=2)\n",
    "fig.add_trace(go.Bar(x=country_counts.index, y=country_counts.values, marker_color='forestgreen',name='Job Postings'), row=1, col=3)\n",
    "\n",
    "# Layout updates\n",
    "fig.update_layout(\n",
    "    height=500, width=1200,\n",
    "    showlegend=False,\n",
    "    #title_text='Top 10 Cities, States, and Countries by Job Postings'\n",
    ")\n",
    "\n",
    "# Rotate x-axis labels and add y-axis title\n",
    "for i in range(1, 4):\n",
    "    fig.update_xaxes(tickangle=45, tickfont=dict(size=12), row=1, col=i)\n",
    "    fig.update_yaxes(title_text='Job Postings', row=1, col=i)\n",
    "\n",
    "#fig.update_yaxes(type='log')  # if log scale is still required\n",
    "\n",
    "fig.show()\n"
   ]
  },
  {
   "cell_type": "markdown",
   "metadata": {},
   "source": [
    "**Key Insights:**\n",
    "\n",
    "- Within cities, the \"Unknown\" group has the highest job posting count by a large margin, dwarfing all named cities; Chicago, Houston, Dallas, and others trail far behind.\n",
    "\n",
    "- At the **state level**, **California, Texas, and Florida** occupy the top three spots for job postings, with noticeable but smaller volumes in New York, Illinois, and other states.\n",
    "\n",
    "- At the **country level**, the **United States** overwhelmingly dominates job postings, with Canada, Brazil, and Argentina contributing only a tiny fraction by comparison.\n"
   ]
  },
  {
   "cell_type": "code",
   "execution_count": null,
   "metadata": {
    "_cell_guid": "da3afb0b-2518-4cf4-b2e9-dce13da53836",
    "_uuid": "7c234911-5881-4843-9cca-4d01b724038b",
    "execution": {
     "iopub.execute_input": "2025-09-17T07:27:24.114616Z",
     "iopub.status.busy": "2025-09-17T07:27:24.114285Z",
     "iopub.status.idle": "2025-09-17T07:27:24.705351Z",
     "shell.execute_reply": "2025-09-17T07:27:24.704182Z",
     "shell.execute_reply.started": "2025-09-17T07:27:24.114595Z"
    },
    "trusted": true
   },
   "outputs": [],
   "source": [
    "# Pie Chart visualizations showing the distribution of job postings by location, split into two views: states and cities\n",
    "\n",
    "import matplotlib.pyplot as plt\n",
    "import pandas as pd\n",
    "\n",
    "# --- State Pie Chart Data Preparation ---\n",
    "# Top 10 states based on job postings\n",
    "top_states = df['state'].value_counts().nlargest(10)\n",
    "top_state_names = top_states.index.tolist()\n",
    "\n",
    "# Full series of state value counts\n",
    "state_counts = df['state'].value_counts()\n",
    "top_state_counts = state_counts.loc[top_state_names]\n",
    "other_states_count = state_counts.loc[~state_counts.index.isin(top_state_names)].sum()\n",
    "\n",
    "# Concatenate top states and 'Other'\n",
    "state_pie_data = pd.concat([top_state_counts, pd.Series({'Other': other_states_count})])\n",
    "\n",
    "# --- City Pie Chart Data Preparation ---\n",
    "# Top 5 cities based on job postings\n",
    "top_cities = df['city'].value_counts().nlargest(5)\n",
    "top_city_names = top_cities.index.tolist()\n",
    "\n",
    "# Full series of city value counts\n",
    "city_counts = df['city'].value_counts()\n",
    "top_city_counts = city_counts.loc[top_city_names]\n",
    "other_cities_count = city_counts.loc[~city_counts.index.isin(top_city_names)].sum()\n",
    "\n",
    "# Concatenate top cities and 'Other'\n",
    "city_pie_data = pd.concat([top_city_counts, pd.Series({'Other': other_cities_count})])\n",
    "\n",
    "# Create 2 subplots in a single row\n",
    "fig, axs = plt.subplots(1, 2, figsize=(18, 9))\n",
    "\n",
    "# --- Plot the State Pie Chart on the first axis (axs[0]) ---\n",
    "colors_states = plt.cm.Set2.colors[:len(state_pie_data)]\n",
    "state_pie_data.plot.pie(ax=axs[0], fontsize=16, autopct='%1.1f%%', colors=colors_states)\n",
    "axs[0].set_title('Job Distribution by Top 10 States and Others', fontsize=18, fontweight='bold')\n",
    "axs[0].set_ylabel('')  # Hide the default y-label\n",
    "\n",
    "# --- Plot the City Pie Chart on the second axis (axs[1]) ---\n",
    "colors_cities = plt.cm.Set3.colors[:len(city_pie_data)]\n",
    "city_pie_data.plot.pie(ax=axs[1], fontsize=16, autopct='%1.1f%%', colors=colors_cities)\n",
    "axs[1].set_title('Job Distribution by Top 5 Cities and Others', fontsize=18, fontweight='bold')\n",
    "axs[1].set_ylabel('')  # Hide the default y-label\n",
    "\n",
    "plt.tight_layout()\n",
    "plt.show()\n"
   ]
  },
  {
   "cell_type": "markdown",
   "metadata": {},
   "source": [
    "**Key Insights:**\n",
    "\n",
    "- The top 10 states account for just over half the job postings, with **California (12.1%), Texas (9.5%), and New York (7.1%) leading**; however, a significant 42.9% of jobs are spread throughout all other states.\n",
    "\n",
    "- In the city-wise distribution, the top 5 cities represent a very small fraction of total jobs, with \"Other\" cities making up a dominant 85.3% share.\n",
    "\n",
    "- The **\"Unknown\" city group (8.2%)** highlights a notable portion of postings with **missing or ambiguous city data**.\n",
    "\n",
    "- **Major cities** like Chicago, Houston, Atlanta, and Dallas each comprise **less than 2% of job postings**, indicating city-level concentration is much weaker compared to state-level concentration.\n",
    "\n",
    "- Overall, **job opportunities are much more evenly spread at the city level than the state level**, with the majority of postings falling outside the most populous or well-known locations."
   ]
  },
  {
   "cell_type": "code",
   "execution_count": null,
   "metadata": {
    "_cell_guid": "9d1a3a33-13eb-4bb2-96d0-105b65505f61",
    "_uuid": "32c50dcc-eef2-49f9-b5d4-8833c9eeec8a",
    "execution": {
     "iopub.execute_input": "2025-09-17T07:27:24.706576Z",
     "iopub.status.busy": "2025-09-17T07:27:24.706235Z",
     "iopub.status.idle": "2025-09-17T07:27:24.985342Z",
     "shell.execute_reply": "2025-09-17T07:27:24.983924Z",
     "shell.execute_reply.started": "2025-09-17T07:27:24.706539Z"
    },
    "trusted": true
   },
   "outputs": [],
   "source": [
    "# Visualizes the average number of job post views per state\n",
    "\n",
    "import matplotlib.pyplot as plt\n",
    "import pandas as pd\n",
    "\n",
    "# 1. Average views per city\n",
    "city_views = df.groupby('state')['views'].mean().sort_values(ascending=False)\n",
    "\n",
    "# Visualize average views per city\n",
    "plt.figure(figsize=(10, 6))\n",
    "city_views.head(10).plot(kind='bar', color='burlywood')\n",
    "plt.title('Top 10 State by Average Job Post Views')\n",
    "plt.xlabel('State')\n",
    "plt.ylabel('Average Views')\n",
    "plt.xticks(rotation=45, ha='right')\n",
    "plt.tight_layout()\n",
    "plt.show()"
   ]
  },
  {
   "cell_type": "markdown",
   "metadata": {},
   "source": [
    "**Key Insights:**\n",
    "\n",
    "- **QC, ON, The Gambia, and South Holland** lead in average job post views, each averaging close to 16 views per post—much higher than other regions in the top 10.\n",
    "\n",
    "- **U.S. locations** like DC, New York, Washington, California, Connecticut, and Massachusetts **all show lower average view counts**, typically between 7 and 8.\n",
    "\n",
    "- The high averages in certain regions may indicate greater job seeker engagement per posting, but could also reflect fewer postings overall or unique local interest patterns.\n",
    "\n",
    "- **Canadian provinces (QC and ON)** and select international locations (The Gambia, South Holland) are particularly strong in generating interest per job post compared to major U.S. states."
   ]
  },
  {
   "cell_type": "code",
   "execution_count": null,
   "metadata": {
    "_cell_guid": "60e69e86-2f50-4538-9efc-0e847a35d727",
    "_uuid": "b3fe5a87-a1ac-4358-891a-3a18eb07124e",
    "execution": {
     "iopub.execute_input": "2025-09-17T07:27:24.986563Z",
     "iopub.status.busy": "2025-09-17T07:27:24.986270Z",
     "iopub.status.idle": "2025-09-17T07:27:24.991559Z",
     "shell.execute_reply": "2025-09-17T07:27:24.990369Z",
     "shell.execute_reply.started": "2025-09-17T07:27:24.986543Z"
    },
    "trusted": true
   },
   "outputs": [],
   "source": [
    "# List of columns to check value counts for\n",
    "# columns_to_check = ['formatted_work_type', 'application_type', 'formatted_experience_level', 'skill_name', 'industry_name']\n",
    "\n",
    "# Loop through the columns and print value counts\n",
    "#for column in columns_to_check:\n",
    "#    print(f\"\\nValue counts for '{column}':\")\n",
    "#    print(df[column].value_counts())"
   ]
  },
  {
   "cell_type": "code",
   "execution_count": null,
   "metadata": {
    "execution": {
     "iopub.execute_input": "2025-09-17T07:27:24.993184Z",
     "iopub.status.busy": "2025-09-17T07:27:24.992893Z",
     "iopub.status.idle": "2025-09-17T07:27:25.305465Z",
     "shell.execute_reply": "2025-09-17T07:27:25.304454Z",
     "shell.execute_reply.started": "2025-09-17T07:27:24.993162Z"
    },
    "trusted": true
   },
   "outputs": [],
   "source": [
    "# Visualize the distribution of Work Type using stacked bar charts for cities and states\n",
    "\n",
    "import plotly.graph_objects as go\n",
    "from plotly.subplots import make_subplots\n",
    "import plotly.express as px\n",
    "\n",
    "# Get top 10 cities and states by job count\n",
    "top_cities = df['city'].value_counts().nlargest(10).index.tolist()\n",
    "top_states = df['state'].value_counts().nlargest(10).index.tolist()\n",
    "\n",
    "# Filter for those locations\n",
    "df_cities = df[df['city'].isin(top_cities)]\n",
    "df_states = df[df['state'].isin(top_states)]\n",
    "\n",
    "# Group work type\n",
    "city_worktype = df_cities.groupby(['city', 'formatted_work_type']).size().unstack(fill_value=0)\n",
    "state_worktype = df_states.groupby(['state', 'formatted_work_type']).size().unstack(fill_value=0)\n",
    "work_types = city_worktype.columns.tolist()\n",
    "\n",
    "palette = px.colors.qualitative.Bold  # Choose your preferred palette\n",
    "color_map = {wt: palette[i % len(palette)] for i, wt in enumerate(work_types)}\n",
    "\n",
    "fig = make_subplots(\n",
    "    rows=1, cols=2,\n",
    "    subplot_titles=('<b>Top 10 Cities</b>', '<b>Top 10 States</b>')\n",
    ")\n",
    "\n",
    "# Add stacked bars for cities (show legend)\n",
    "for wt in work_types:\n",
    "    fig.add_trace(go.Bar(\n",
    "        x=city_worktype.index,\n",
    "        y=city_worktype[wt],\n",
    "        name=wt,\n",
    "        legendgroup=wt,\n",
    "        marker_color=color_map[wt],\n",
    "        showlegend=True,  # Only here!\n",
    "        marker_line_width=0\n",
    "    ), row=1, col=1)\n",
    "\n",
    "# Add stacked bars for states (hide legend)\n",
    "for wt in work_types:\n",
    "    fig.add_trace(go.Bar(\n",
    "        x=state_worktype.index,\n",
    "        y=state_worktype[wt],\n",
    "        name=wt,\n",
    "        legendgroup=wt,\n",
    "        marker_color=color_map[wt],\n",
    "        showlegend=False,  # Hide legend here!\n",
    "        marker_line_width=0\n",
    "    ), row=1, col=2)\n",
    "\n",
    "fig.update_layout(\n",
    "    barmode='stack',\n",
    "    height=600, width=1100,\n",
    "    showlegend=True,\n",
    "    title_text='<b>Work Type Distribution</b>',\n",
    "    title_x=0.5  # Centers the title horizontally\n",
    ")\n",
    "\n",
    "for i in range(1, 3):\n",
    "    fig.update_xaxes(tickangle=45, tickfont=dict(size=12), row=1, col=i)\n",
    "    fig.update_yaxes(title_text='Job Postings', row=1, col=i)\n",
    "\n",
    "fig.show()\n"
   ]
  },
  {
   "cell_type": "markdown",
   "metadata": {},
   "source": [
    "**Key Insights:**\n",
    "\n",
    "- **Full-time roles** overwhelmingly **dominate job postings in all top cities and states**, greatly outnumbering other work types.\n",
    "\n",
    "- **Contract positions** are the **next most significant category**, well represented in every major city and state, though still far behind full-time roles.\n",
    "\n",
    "- Internship, part-time, temporary, volunteer, and \"other\" work types contribute much smaller shares, indicating **limited availability for alternative or flexible working arrangements**.\n",
    "\n",
    "- **California and Texas** lead the states in total job postings for **Full-time**, with similar trends visible in larger cities, while the \"Unknown\" city group presents the largest single block—highlighting substantial postings without specific city data."
   ]
  },
  {
   "cell_type": "code",
   "execution_count": null,
   "metadata": {
    "execution": {
     "iopub.execute_input": "2025-09-17T07:27:25.306824Z",
     "iopub.status.busy": "2025-09-17T07:27:25.306483Z",
     "iopub.status.idle": "2025-09-17T07:27:25.615041Z",
     "shell.execute_reply": "2025-09-17T07:27:25.614033Z",
     "shell.execute_reply.started": "2025-09-17T07:27:25.306794Z"
    },
    "trusted": true
   },
   "outputs": [],
   "source": [
    "# Visualize the distribution of Work Experience using stacked bar charts for cities and states\n",
    "\n",
    "import plotly.graph_objects as go\n",
    "from plotly.subplots import make_subplots\n",
    "import plotly.express as px\n",
    "\n",
    "# Get top 10 cities and states by job count\n",
    "top_cities = df['city'].value_counts().nlargest(10).index.tolist()\n",
    "top_states = df['state'].value_counts().nlargest(10).index.tolist()\n",
    "\n",
    "# Filter the DataFrame for those locations\n",
    "df_cities = df[df['city'].isin(top_cities)]\n",
    "df_states = df[df['state'].isin(top_states)]\n",
    "\n",
    "# Group by experience level instead of work type\n",
    "city_exp = df_cities.groupby(['city', 'formatted_experience_level']).size().unstack(fill_value=0)\n",
    "state_exp = df_states.groupby(['state', 'formatted_experience_level']).size().unstack(fill_value=0)\n",
    "\n",
    "# Get experience levels\n",
    "experience_levels = city_exp.columns.tolist()\n",
    "\n",
    "# Choose a color palette and create color map\n",
    "palette = px.colors.qualitative.T10\n",
    "color_map = {exp: palette[i % len(palette)] for i, exp in enumerate(experience_levels)}\n",
    "\n",
    "fig = make_subplots(\n",
    "    rows=1, cols=2,\n",
    "    subplot_titles=('<b>Top 10 Cities</b>', '<b>Top 10 States</b>')\n",
    ")\n",
    "\n",
    "# Add stacked bars for cities (show legend)\n",
    "for exp in experience_levels:\n",
    "    fig.add_trace(go.Bar(\n",
    "        x=city_exp.index,\n",
    "        y=city_exp[exp],\n",
    "        name=exp,\n",
    "        legendgroup=exp,\n",
    "        marker_color=color_map[exp],\n",
    "        showlegend=True,\n",
    "        marker_line_width=0\n",
    "    ), row=1, col=1)\n",
    "\n",
    "# Add stacked bars for states (hide legend)\n",
    "for exp in experience_levels:\n",
    "    fig.add_trace(go.Bar(\n",
    "        x=state_exp.index,\n",
    "        y=state_exp[exp],\n",
    "        name=exp,\n",
    "        legendgroup=exp,\n",
    "        marker_color=color_map[exp],\n",
    "        showlegend=False,\n",
    "        marker_line_width=0\n",
    "    ), row=1, col=2)\n",
    "\n",
    "fig.update_layout(\n",
    "    barmode='stack',\n",
    "    height=600,\n",
    "    width=1100,\n",
    "    showlegend=True,\n",
    "    title_text='<b>Work Experience Level Distribution</b>',\n",
    "    title_x=0.5  # Centers the title horizontally\n",
    ")\n",
    "\n",
    "for i in range(1, 3):\n",
    "    fig.update_xaxes(tickangle=45, tickfont=dict(size=12), row=1, col=i)\n",
    "    fig.update_yaxes(title_text='Job Postings', row=1, col=i)\n",
    "\n",
    "fig.show()\n"
   ]
  },
  {
   "cell_type": "markdown",
   "metadata": {},
   "source": [
    "**Key Insights:**\n",
    "\n",
    "- **Mid-Senior level and Entry level** are the **most prevalent experience requirements** in job postings across both cities and states, together forming the majority of opportunities.\n",
    "\n",
    "- Among states, **California** stands out with the highest job postings, led by a **significant volume of mid-senior roles**, followed by Texas and New York also showing robust demand for both mid-senior and entry-level talent.\n",
    "\n",
    "- **Other experience levels** (Associate, Director, Executive, Internship) make up a smaller but steady portion of postings, suggesting that while seniority and entry roles dominate, a diverse range of experience is still in demand throughout the market."
   ]
  },
  {
   "cell_type": "code",
   "execution_count": null,
   "metadata": {
    "_cell_guid": "9d2a9bd4-4f3b-44c4-9dcd-bc6d35e33a76",
    "_uuid": "917320e1-d0d5-493a-8752-8d456034e59f",
    "execution": {
     "iopub.execute_input": "2025-09-17T07:27:25.616466Z",
     "iopub.status.busy": "2025-09-17T07:27:25.616095Z",
     "iopub.status.idle": "2025-09-17T07:27:26.812751Z",
     "shell.execute_reply": "2025-09-17T07:27:26.811732Z",
     "shell.execute_reply.started": "2025-09-17T07:27:25.616434Z"
    },
    "trusted": true
   },
   "outputs": [],
   "source": [
    "# Analyze the most popular skills in the top 10 cities and states\n",
    "\n",
    "# Get top 10 cities and states by total job postings\n",
    "top_10_cities = df['city'].value_counts().nlargest(10).index\n",
    "top_10_states = df['state'].value_counts().nlargest(10).index\n",
    "\n",
    "# Filter data for top 10 cities and states from the original dataframe\n",
    "df_cities_top = df[df['city'].isin(top_10_cities)]\n",
    "df_states_top = df[df['state'].isin(top_10_states)]\n",
    "\n",
    "# Group skill name counts for top 10 cities and states\n",
    "city_skill_top = df_cities_top.groupby(['city', 'skill_name']).size().unstack(fill_value=0)\n",
    "state_skill_top = df_states_top.groupby(['state', 'skill_name']).size().unstack(fill_value=0)\n",
    "\n",
    "# Get top 10 skills by total counts for cities and states\n",
    "top_skills_cities = city_skill_top.sum(axis=0).nlargest(10).index\n",
    "top_skills_states = state_skill_top.sum(axis=0).nlargest(10).index\n",
    "\n",
    "# Filter to only top 10 skills\n",
    "city_skill_top_10 = city_skill_top[top_skills_cities]\n",
    "state_skill_top_10 = state_skill_top[top_skills_states]\n",
    "\n",
    "# Plot stacked bar charts only\n",
    "# Adjust subplots to 1 row and 2 columns\n",
    "fig, axs = plt.subplots(1, 2, figsize=(20, 7))\n",
    "\n",
    "# Bar plot for top 10 skills in top 10 cities\n",
    "city_skill_top_10.plot(kind='bar', stacked=True, ax=axs[0], colormap='Set2')\n",
    "axs[0].set_title('Top 10 Skills Distribution - Top 10 Cities', fontsize=18, fontweight='bold')\n",
    "axs[0].set_xlabel('City')\n",
    "axs[0].set_ylabel('Job Postings')\n",
    "axs[0].tick_params(axis='x', rotation=45)\n",
    "#axs[0].legend(title='Skill Name', bbox_to_anchor=(1.05, 1), loc='upper left')\n",
    "\n",
    "# Bar plot for top 10 skills in top 10 states\n",
    "state_skill_top_10.plot(kind='bar', stacked=True, ax=axs[1], colormap='Set2')\n",
    "axs[1].set_title('Top 10 Skills Distribution - Top 10 States', fontsize=18, fontweight='bold')\n",
    "axs[1].set_xlabel('State')\n",
    "axs[1].set_ylabel('Job Postings')\n",
    "axs[1].tick_params(axis='x', rotation=45)\n",
    "#axs[1].legend(title='Skill Name', bbox_to_anchor=(1.05, 1), loc='upper left')\n",
    "\n",
    "plt.tight_layout()\n",
    "plt.show()\n",
    "\n"
   ]
  },
  {
   "cell_type": "markdown",
   "metadata": {},
   "source": [
    "**Key Insights:**\n",
    "\n",
    "- **Information Technology leads job postings** in every top city and state, far surpassing other skills.\n",
    "\n",
    "- **Sales, Management, and Business Development** consistently follow IT, but their numbers are significantly lower in comparison.\n",
    "\n",
    "- In cities, the \"Unknown\" group once again registers the highest count, reflecting incomplete city data in postings and possibly skewing visibility of city-specific trends.\n",
    "\n",
    "- Among states, **California and Texas** display the **highest demand for most top skills**, especially IT, indicating major tech and business hubs.\n",
    "\n",
    "- **Other core skills**—Engineering, Healthcare Provider, Finance, and Marketing—remain steady contributors across locations, showing broad-based demand rather than single-skill specialization."
   ]
  },
  {
   "cell_type": "code",
   "execution_count": null,
   "metadata": {
    "_cell_guid": "2d07dddc-2c10-4bb2-a7bc-74e907cfabfb",
    "_uuid": "9bbe0b15-3b0d-4e8a-9704-26ed00da988b",
    "execution": {
     "iopub.execute_input": "2025-09-17T07:27:26.814702Z",
     "iopub.status.busy": "2025-09-17T07:27:26.814270Z",
     "iopub.status.idle": "2025-09-17T07:27:27.551668Z",
     "shell.execute_reply": "2025-09-17T07:27:27.550657Z",
     "shell.execute_reply.started": "2025-09-17T07:27:26.814679Z"
    },
    "trusted": true
   },
   "outputs": [],
   "source": [
    "# Visualize the distribution of industries in the top cities and states.\n",
    "#  It generates four plots: two horizontal bar charts showing the top 10 cities and states by job postings and \n",
    "#  two pie charts showing the percentage share of different industries within those locations.\n",
    "\n",
    "# Get top 10 cities and states by total job postings\n",
    "top_10_cities_series = df['city'].value_counts().nlargest(10)\n",
    "top_10_cities = top_10_cities_series.index\n",
    "top_10_states_series = df['state'].value_counts().nlargest(10)\n",
    "top_10_states = top_10_states_series.index\n",
    "\n",
    "# Filter data for top 10 cities and states from the original dataframe\n",
    "df_cities_top = df[df['city'].isin(top_10_cities)]\n",
    "df_states_top = df[df['state'].isin(top_10_states)]\n",
    "\n",
    "# Group industry name counts for top 10 cities and states\n",
    "city_industry_top = df_cities_top.groupby(['city', 'industry_name']).size().unstack(fill_value=0)\n",
    "state_industry_top = df_states_top.groupby(['state', 'industry_name']).size().unstack(fill_value=0)\n",
    "\n",
    "# Get top 10 industries by total counts\n",
    "top_industries_cities = city_industry_top.sum(axis=0).nlargest(10).index\n",
    "top_industries_states = state_industry_top.sum(axis=0).nlargest(10).index\n",
    "\n",
    "# Filter to only top 10 industries for each location type\n",
    "city_industry_top_10 = city_industry_top[top_industries_cities]\n",
    "state_industry_top_10 = state_industry_top[top_industries_states]\n",
    "\n",
    "# Create \"Other\" category for industries outside the top 10\n",
    "city_industry_other = city_industry_top.drop(columns=top_industries_cities, errors='ignore').sum(axis=1)\n",
    "state_industry_other = state_industry_top.drop(columns=top_industries_states, errors='ignore').sum(axis=1)\n",
    "\n",
    "# Prepare data for pie charts\n",
    "city_industry_totals = city_industry_top_10.sum(axis=0)\n",
    "city_industry_other_total = city_industry_other.sum()\n",
    "city_pie_data_final = pd.concat([city_industry_totals, pd.Series({'Other': city_industry_other_total})])\n",
    "\n",
    "state_industry_totals = state_industry_top_10.sum(axis=0)\n",
    "state_industry_other_total = state_industry_other.sum()\n",
    "state_pie_data_final = pd.concat([state_industry_totals, pd.Series({'Other': state_industry_other_total})])\n",
    "\n",
    "# --- Plot Pie Charts ---\n",
    "fig_pies, axs_pies = plt.subplots(1, 2, figsize=(20, 10))\n",
    "\n",
    "# Pie chart for cities\n",
    "if not city_pie_data_final.empty and city_pie_data_final.sum() > 0:\n",
    "    city_pie_data_final.plot.pie(ax=axs_pies[0], fontsize=14, autopct='%1.1f%%', startangle=90, colormap='tab20', pctdistance=0.85)\n",
    "    axs_pies[0].set_title('Share of Top Industries in Top Cities', fontsize=18, fontweight='bold')\n",
    "    axs_pies[0].set_ylabel('')\n",
    "\n",
    "# Pie chart for states\n",
    "if not state_pie_data_final.empty and state_pie_data_final.sum() > 0:\n",
    "    state_pie_data_final.plot.pie(ax=axs_pies[1], fontsize=14, autopct='%1.1f%%', startangle=90, colormap='tab20', pctdistance=0.85)\n",
    "    axs_pies[1].set_title('Share of Top Industries in Top States', fontsize=18, fontweight='bold')\n",
    "    axs_pies[1].set_ylabel('')\n",
    "\n",
    "plt.tight_layout()\n",
    "plt.show()"
   ]
  },
  {
   "cell_type": "markdown",
   "metadata": {},
   "source": [
    "**Key Insights:**\n",
    "\n",
    "- In both cities and states, \"Other\" industries constitute the largest share—58% for cities and 57.2% for states—indicating a **highly fragmented industry landscape** beyond the leading sectors.\n",
    "\n",
    "- **Financial Services dominates** in cities (7.7%), while Hospitals and Health Care lead in states (8.3%), showing some regional variation in top industry presence.\n",
    "\n",
    "- **IT Services and IT Consulting, Retail, and Staffing and Recruiting** consistently appear as **major sectors** in both breakdowns, though their percentage shares are slightly higher in cities.\n",
    "\n",
    "- Industries like Software Development, Construction, and Banking hold moderate to small shares and remain significant players but do not reach double-digit percentages.\n",
    "\n",
    "- The distribution illustrates a broad spectrum of job opportunities across industries, with **no single sector overwhelmingly dominating** outside the large \"Other\" category."
   ]
  },
  {
   "cell_type": "code",
   "execution_count": null,
   "metadata": {
    "execution": {
     "iopub.execute_input": "2025-09-17T07:27:27.553039Z",
     "iopub.status.busy": "2025-09-17T07:27:27.552734Z",
     "iopub.status.idle": "2025-09-17T07:27:27.699223Z",
     "shell.execute_reply": "2025-09-17T07:27:27.698273Z",
     "shell.execute_reply.started": "2025-09-17T07:27:27.553016Z"
    },
    "trusted": true
   },
   "outputs": [],
   "source": [
    "# Visualizes the data with a clustered bar chart of the top 10 skills required for job postings across the top 10 cities\n",
    "\n",
    "import plotly.graph_objects as go\n",
    "\n",
    "# Grouping/subsetting code\n",
    "location_skill = df.groupby(['city', 'skill_name']).size().unstack(fill_value=0)\n",
    "city_total = location_skill.sum(axis=1)\n",
    "top_cities = city_total.sort_values(ascending=False).head(10).index\n",
    "location_skill_top = location_skill.loc[top_cities]\n",
    "skill_total = location_skill_top.sum(axis=0)\n",
    "top_skills = skill_total.sort_values(ascending=False).head(10).index\n",
    "final_data = location_skill_top[top_skills]\n",
    "\n",
    "# Assuming `final_data` is a DataFrame where rows = cities, columns = top skills, values = counts\n",
    "cities = final_data.index.tolist()\n",
    "skills = final_data.columns.tolist()\n",
    "\n",
    "fig = go.Figure()\n",
    "\n",
    "# For each skill, add a Bar trace with counts for all cities\n",
    "for skill in skills:\n",
    "    fig.add_trace(go.Bar(\n",
    "        x=cities,\n",
    "        y=final_data[skill],\n",
    "        name=skill\n",
    "    ))\n",
    "\n",
    "\n",
    "fig.update_layout(\n",
    "    title='<b>Top 10 Skills in Top 10 Cities (Job Count by Skill and City)</b>',\n",
    "    title_x=0.5,  # centers the title horizontally\n",
    "    xaxis_title='City',\n",
    "    yaxis_title='No of Jobs',\n",
    "    barmode='group',  # grouped bars\n",
    "    xaxis_tickangle=-45,\n",
    "    legend_title='<b>Skill</b>',\n",
    "    width=max(1000, 120 * len(cities)),\n",
    "    height=max(600, 40 * len(skills)),\n",
    "    legend=dict(\n",
    "        x=0.95,       # x-position (0=left, 1=right)\n",
    "        y=0.95,       # y-position (0=bottom, 1=top)\n",
    "        xanchor='right',\n",
    "        yanchor='top',\n",
    "        bgcolor='rgba(255,255,255,0.7)',  # semi-transparent background\n",
    "        bordercolor='black',\n",
    "        borderwidth=1\n",
    "    )\n",
    ")\n",
    "\n",
    "\n",
    "#fig.update_yaxes(type='log')\n",
    "fig.show()\n"
   ]
  },
  {
   "cell_type": "markdown",
   "metadata": {},
   "source": [
    "**Key Insights:**\n",
    "\n",
    "- **Information Technology** and **Sales** are the **most in-demand skills** in nearly every top city, consistently leading job counts over other skill categories.\n",
    "\n",
    "- Job opportunities decrease sharply from the largest city group (\"Unknown\") to well-known metros like Chicago, Houston, Atlanta, and the rest, illustrating a strong concentration of job postings in the top few urban centers.\n",
    "\n",
    "- After tech and sales, **Business Development, Engineering, and Management** are the **next most prominent skills** across the major cities, reflecting broad corporate and technical demand.\n",
    "\n",
    "- Several cities (Chicago, Houston, Atlanta, Dallas) show a more even distribution among the top skills, while IT and Sales clearly dominate in some markets.\n",
    "\n",
    "- The **\"Unknown\"** group likely aggregates postings where **city data is missing**; its high volume suggests a significant portion of jobs lack precise city tagging."
   ]
  },
  {
   "cell_type": "code",
   "execution_count": null,
   "metadata": {
    "_cell_guid": "345f5129-17c2-4fce-ab64-5a3d60f1c464",
    "_uuid": "b1c57bc1-2c46-4204-8e3b-51c97f6f3375",
    "execution": {
     "iopub.execute_input": "2025-09-17T07:27:27.700675Z",
     "iopub.status.busy": "2025-09-17T07:27:27.700348Z",
     "iopub.status.idle": "2025-09-17T07:27:29.334352Z",
     "shell.execute_reply": "2025-09-17T07:27:29.333049Z",
     "shell.execute_reply.started": "2025-09-17T07:27:27.700649Z"
    },
    "trusted": true
   },
   "outputs": [],
   "source": [
    "# Visualize the distribution of job types by country using Plotly\n",
    "\n",
    "import plotly.graph_objects as go\n",
    "\n",
    "# Extract unique job types and countries\n",
    "work_types = df['formatted_work_type'].unique()\n",
    "countries = df['country'].unique()\n",
    "\n",
    "# Brand colors (extend the list if more work types exist)\n",
    "#colors = [\"#1FB8CD\", \"#DB4545\", \"#2E8B57\", \"#5D878F\", \"#D2BA4C\"]\n",
    "\n",
    "# Use a sequential color scale from Plotly\n",
    "palette = px.colors.sequential.Agsunset\n",
    "\n",
    "# Map work types to colors from the palette evenly\n",
    "colors = [palette[int(i * (len(palette)-1) / (len(work_types)-1))] for i in range(len(work_types))]\n",
    "\n",
    "fig = go.Figure()\n",
    "\n",
    "# Add a bar for each work type, grouped by country\n",
    "for i, work_type in enumerate(work_types):\n",
    "    values = [df[(df['country'] == country) & (df['formatted_work_type'] == work_type)].shape[0] for country in countries]\n",
    "    fig.add_trace(go.Bar(\n",
    "        name=work_type,\n",
    "        x=countries,\n",
    "        y=values,\n",
    "        marker_color=colors[i % len(colors)],\n",
    "    ))\n",
    "\n",
    "fig.update_layout(\n",
    "    barmode='group',\n",
    "    title='<b>Country wise Work Types (Log Scale)</b>',\n",
    "    title_x =0.5,\n",
    "    xaxis_title='Country',\n",
    "    yaxis_title='Number of Jobs',\n",
    "    legend_title='Work Type',\n",
    ")\n",
    "fig.update_yaxes(type='log')\n",
    "fig.show()"
   ]
  },
  {
   "cell_type": "markdown",
   "metadata": {},
   "source": [
    "**Key Insights:**\n",
    "\n",
    "- The **United States** has an overwhelming **majority of job postings** across all work types compared to Canada, Brazil, and Argentina.\n",
    "\n",
    "- **Full-time, internship, and contract roles dominate** in the U.S., while other countries contribute minimally and mainly in a single or two work types.\n",
    "\n",
    "- The huge disparity is highlighted using the log scale, with non-U.S. markets barely visible in comparison.\n",
    "\n",
    "- Data suggests potential platform or sample **bias heavily favoring U.S. listings**, not global market representation."
   ]
  },
  {
   "cell_type": "code",
   "execution_count": null,
   "metadata": {
    "trusted": true
   },
   "outputs": [],
   "source": []
  }
 ],
 "metadata": {
  "kaggle": {
   "accelerator": "none",
   "dataSources": [
    {
     "datasetId": 8174295,
     "sourceId": 12918640,
     "sourceType": "datasetVersion"
    }
   ],
   "dockerImageVersionId": 31090,
   "isGpuEnabled": false,
   "isInternetEnabled": true,
   "language": "python",
   "sourceType": "notebook"
  },
  "kernelspec": {
   "display_name": "Python 3",
   "language": "python",
   "name": "python3"
  },
  "language_info": {
   "codemirror_mode": {
    "name": "ipython",
    "version": 3
   },
   "file_extension": ".py",
   "mimetype": "text/x-python",
   "name": "python",
   "nbconvert_exporter": "python",
   "pygments_lexer": "ipython3",
   "version": "3.12.6"
  }
 },
 "nbformat": 4,
 "nbformat_minor": 4
}
