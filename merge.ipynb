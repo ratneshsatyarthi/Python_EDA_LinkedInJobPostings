{
 "cells": [
  {
   "cell_type": "code",
   "execution_count": null,
   "id": "bba005a9",
   "metadata": {},
   "outputs": [],
   "source": [
    "# Read all files\n",
    "\n",
    "# Specify the folder path\n",
    "# path = r'C:\\C Drive data\\Ratnesh\\Data Science\\Intern Projects\\2. Job Search Analysis\\LinkedIn Job Postings\\LinkedinJob'\n",
    "\n",
    "# postings = pd.read_csv(os.path.join(path, 'postings.csv'))\n",
    "# job_skills = pd.read_csv(os.path.join(path, 'job_skills.csv'))\n",
    "# skills = pd.read_csv(os.path.join(path, 'skills.csv'))\n",
    "# job_industries = pd.read_csv(os.path.join(path, 'job_industries.csv'))\n",
    "# industries = pd.read_csv(os.path.join(path, 'industries.csv'))"
   ]
  },
  {
   "cell_type": "code",
   "execution_count": null,
   "id": "ba66f546",
   "metadata": {},
   "outputs": [],
   "source": [
    "# Merge steps as LEFT OUTER JOINs on specified columns\n",
    "\n",
    "# merged = pd.merge(postings, job_skills, on='job_id', how='left')\n",
    "# merged = pd.merge(merged, skills, on='skill_abr', how='left')\n",
    "# merged = pd.merge(merged, job_industries, on='job_id', how='left')\n",
    "# merged = pd.merge(merged, industries, on='industry_id', how='left')"
   ]
  },
  {
   "cell_type": "code",
   "execution_count": null,
   "id": "cb83a50f",
   "metadata": {},
   "outputs": [],
   "source": [
    "# Save final merged file\n",
    "\n",
    "# merged_output = os.path.join(path, 'merged_output.csv')\n",
    "# merged.to_csv(merged_output, index=False)\n",
    "# print('Merged CSV created at:', merged_output)"
   ]
  }
 ],
 "metadata": {
  "language_info": {
   "name": "python"
  }
 },
 "nbformat": 4,
 "nbformat_minor": 5
}
